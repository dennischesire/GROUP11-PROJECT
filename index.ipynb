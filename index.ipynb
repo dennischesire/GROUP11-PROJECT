{
 "cells": [
  {
   "cell_type": "markdown",
   "id": "a3d97bd3-a20f-42a1-b27d-f349664e4e96",
   "metadata": {},
   "source": [
    "# 1. Business Understanding"
   ]
  },
  {
   "cell_type": "markdown",
   "id": "bc3de8b1-a8d7-41bf-a42e-b7ea824b78ea",
   "metadata": {},
   "source": [
    "## Stakeholder & Problem\n",
    "**Primary Stakeholder:** Sarah Chen, Senior Product Manager for iOS at Apple Inc.\n",
    "\n",
    "Sarah's team currently spends significant manual effort monitoring Twitter sentiment about iOS releases and features. This process is slow, inconsistent, and doesn't scale to handle the thousands of daily Apple-related tweets."
   ]
  },
  {
   "cell_type": "markdown",
   "id": "e9c766d4-72e5-4122-93ac-c4c1c7be2670",
   "metadata": {},
   "source": [
    "## Business Objective\n",
    "**Primary Objective**\n",
    "Develop an automated sentiment classification system that can process Twitter data in real-time to provide actionable insights about Apple product sentiment.\n",
    "\n",
    "**Technical Objectives**\n",
    "- Build a Multi-Class Classification Model that accurately categorizes tweets as Positive, Negative, or Neutral\n",
    "\n",
    "- Achieve >80% Accuracy on sentiment classification to ensure reliable business insights\n",
    "\n",
    "- Implement Model Interpretability to identify key words and phrases driving sentiment predictions\n",
    "\n",
    "- Create a Preprocessing Pipeline that can handle real-world Twitter data with noise, emojis, and informal language\n",
    "\n",
    "- Establish a Validation Framework to ensure model performance generalizes to unseen data"
   ]
  },
  {
   "cell_type": "markdown",
   "id": "d35643ba-9ea5-40ea-ac24-154e9c72129b",
   "metadata": {},
   "source": [
    "### **Success Metrics**\n",
    "- **Technical:** >80% accuracy on test set, interpretable feature importance\n",
    "- **Business:** Actionable insights for product team, clear path to deployment\n",
    "- **Stakeholder:** Model that addresses specific pain points with measurable benefits"
   ]
  },
  {
   "cell_type": "markdown",
   "id": "ecade1d7-a5ee-4ae5-91c7-883a05165d20",
   "metadata": {},
   "source": [
    "# Data Understanding"
   ]
  },
  {
   "cell_type": "markdown",
   "id": "7e52fd00-ab46-4341-b3bf-1e0e05fa7b5a",
   "metadata": {},
   "source": [
    "## Data Source & Description\n",
    "- **Dataset:** Twitter Sentiment Analysis (Apple vs. Google) from CrowdFlower via data.world\n",
    "- **Collection Method:** Human raters manually labeled tweet sentiment\n",
    "- **Size:** 9,093 tweets\n",
    "- **Time Period:** Historical tweets about Apple and Google products"
   ]
  },
  {
   "cell_type": "markdown",
   "id": "16d770da-5f1f-48f5-98b0-7bfc4ed15877",
   "metadata": {},
   "source": [
    "## Data Exploration & Analysis"
   ]
  },
  {
   "cell_type": "code",
   "execution_count": 8,
   "id": "e461411a-6493-41b9-8d52-643ad72301f2",
   "metadata": {},
   "outputs": [],
   "source": [
    "# Importing necessary libraries\n",
    "import pandas as pd\n",
    "import numpy as np\n",
    "import matplotlib.pyplot as plt\n",
    "import seaborn as sns\n"
   ]
  },
  {
   "cell_type": "code",
   "execution_count": 9,
   "id": "e103a701-47fc-4978-a390-21bd356e2f11",
   "metadata": {},
   "outputs": [
    {
     "name": "stdout",
     "output_type": "stream",
     "text": [
      "Dataset shape: (9093, 3)\n"
     ]
    },
    {
     "data": {
      "text/html": [
       "<div>\n",
       "<style scoped>\n",
       "    .dataframe tbody tr th:only-of-type {\n",
       "        vertical-align: middle;\n",
       "    }\n",
       "\n",
       "    .dataframe tbody tr th {\n",
       "        vertical-align: top;\n",
       "    }\n",
       "\n",
       "    .dataframe thead th {\n",
       "        text-align: right;\n",
       "    }\n",
       "</style>\n",
       "<table border=\"1\" class=\"dataframe\">\n",
       "  <thead>\n",
       "    <tr style=\"text-align: right;\">\n",
       "      <th></th>\n",
       "      <th>tweet_text</th>\n",
       "      <th>emotion_in_tweet_is_directed_at</th>\n",
       "      <th>is_there_an_emotion_directed_at_a_brand_or_product</th>\n",
       "    </tr>\n",
       "  </thead>\n",
       "  <tbody>\n",
       "    <tr>\n",
       "      <th>0</th>\n",
       "      <td>.@wesley83 I have a 3G iPhone. After 3 hrs twe...</td>\n",
       "      <td>iPhone</td>\n",
       "      <td>Negative emotion</td>\n",
       "    </tr>\n",
       "    <tr>\n",
       "      <th>1</th>\n",
       "      <td>@jessedee Know about @fludapp ? Awesome iPad/i...</td>\n",
       "      <td>iPad or iPhone App</td>\n",
       "      <td>Positive emotion</td>\n",
       "    </tr>\n",
       "    <tr>\n",
       "      <th>2</th>\n",
       "      <td>@swonderlin Can not wait for #iPad 2 also. The...</td>\n",
       "      <td>iPad</td>\n",
       "      <td>Positive emotion</td>\n",
       "    </tr>\n",
       "    <tr>\n",
       "      <th>3</th>\n",
       "      <td>@sxsw I hope this year's festival isn't as cra...</td>\n",
       "      <td>iPad or iPhone App</td>\n",
       "      <td>Negative emotion</td>\n",
       "    </tr>\n",
       "    <tr>\n",
       "      <th>4</th>\n",
       "      <td>@sxtxstate great stuff on Fri #SXSW: Marissa M...</td>\n",
       "      <td>Google</td>\n",
       "      <td>Positive emotion</td>\n",
       "    </tr>\n",
       "  </tbody>\n",
       "</table>\n",
       "</div>"
      ],
      "text/plain": [
       "                                          tweet_text  \\\n",
       "0  .@wesley83 I have a 3G iPhone. After 3 hrs twe...   \n",
       "1  @jessedee Know about @fludapp ? Awesome iPad/i...   \n",
       "2  @swonderlin Can not wait for #iPad 2 also. The...   \n",
       "3  @sxsw I hope this year's festival isn't as cra...   \n",
       "4  @sxtxstate great stuff on Fri #SXSW: Marissa M...   \n",
       "\n",
       "  emotion_in_tweet_is_directed_at  \\\n",
       "0                          iPhone   \n",
       "1              iPad or iPhone App   \n",
       "2                            iPad   \n",
       "3              iPad or iPhone App   \n",
       "4                          Google   \n",
       "\n",
       "  is_there_an_emotion_directed_at_a_brand_or_product  \n",
       "0                                   Negative emotion  \n",
       "1                                   Positive emotion  \n",
       "2                                   Positive emotion  \n",
       "3                                   Negative emotion  \n",
       "4                                   Positive emotion  "
      ]
     },
     "execution_count": 9,
     "metadata": {},
     "output_type": "execute_result"
    }
   ],
   "source": [
    "# Load the dataset\n",
    "df = pd.read_csv('data/judge-1377884607_tweet_product_company.csv', encoding='ISO-8859-1')\n",
    "\n",
    "print(\"Dataset shape:\", df.shape)\n",
    "df.head()\n"
   ]
  },
  {
   "cell_type": "markdown",
   "id": "290f478a-9503-4609-9104-06e99bf0888d",
   "metadata": {},
   "source": [
    "- Our dataset contains **9,093 tweets** across **3 columns**\n",
    "- This provides a substantial amount of data for building a robust sentiment analysis model\n",
    "\n",
    "**Column Overview:**\n",
    "1. **tweet_text**: The actual content of the tweet (our primary feature)\n",
    "2. **emotion_in_tweet_is_directed_at**: The brand/product being mentioned (Apple, Google, etc.)\n",
    "3. **is_there_an_emotion_directed_at_a_brand_or_product**: The sentiment label (Positive/Negative/Neutral emotion)\n",
    "\n",
    "**Initial Observations:**\n",
    "- The tweets appear to mention various tech brands (iPhone, iPad, Google)\n",
    "- Sentiment labels are already provided, making this a supervised learning problem\n",
    "- We can see examples of both positive and negative emotions in the sample"
   ]
  },
  {
   "cell_type": "code",
   "execution_count": 11,
   "id": "01b5b665-6da3-4785-b2bc-c1f999193290",
   "metadata": {},
   "outputs": [
    {
     "name": "stdout",
     "output_type": "stream",
     "text": [
      "<class 'pandas.core.frame.DataFrame'>\n",
      "RangeIndex: 9093 entries, 0 to 9092\n",
      "Data columns (total 3 columns):\n",
      " #   Column                                              Non-Null Count  Dtype \n",
      "---  ------                                              --------------  ----- \n",
      " 0   tweet_text                                          9092 non-null   object\n",
      " 1   emotion_in_tweet_is_directed_at                     3291 non-null   object\n",
      " 2   is_there_an_emotion_directed_at_a_brand_or_product  9093 non-null   object\n",
      "dtypes: object(3)\n",
      "memory usage: 213.2+ KB\n"
     ]
    }
   ],
   "source": [
    "df.info()\n"
   ]
  },
  {
   "cell_type": "markdown",
   "id": "fdd223fc-425e-433f-b9f9-77a15d41f056",
   "metadata": {},
   "source": [
    "- We have 9,093 total tweets in our dataset\n",
    "- There are 3 columns\n",
    "- The dataset uses about 213 KB of memory"
   ]
  },
  {
   "cell_type": "code",
   "execution_count": 13,
   "id": "efea150d-c4f8-4406-bb20-7aa34115b938",
   "metadata": {},
   "outputs": [
    {
     "data": {
      "text/plain": [
       "tweet_text                                            object\n",
       "emotion_in_tweet_is_directed_at                       object\n",
       "is_there_an_emotion_directed_at_a_brand_or_product    object\n",
       "dtype: object"
      ]
     },
     "execution_count": 13,
     "metadata": {},
     "output_type": "execute_result"
    }
   ],
   "source": [
    "df.dtypes"
   ]
  },
  {
   "cell_type": "markdown",
   "id": "bd1bc380-af43-4996-a06b-98d96237b0cb",
   "metadata": {},
   "source": [
    "- All the columns are of type object"
   ]
  },
  {
   "cell_type": "code",
   "execution_count": 15,
   "id": "0f6fdd69-63f0-487a-9440-aa709f851cc1",
   "metadata": {},
   "outputs": [
    {
     "data": {
      "text/plain": [
       "tweet_text                                               1\n",
       "emotion_in_tweet_is_directed_at                       5802\n",
       "is_there_an_emotion_directed_at_a_brand_or_product       0\n",
       "dtype: int64"
      ]
     },
     "execution_count": 15,
     "metadata": {},
     "output_type": "execute_result"
    }
   ],
   "source": [
    "df.isnull().sum()"
   ]
  },
  {
   "cell_type": "markdown",
   "id": "23bed183-b296-4043-a068-8f2f0628490c",
   "metadata": {},
   "source": [
    "**Tweet Text Column:**\n",
    "- Only 1 missing value out of 9,093 tweets\n",
    "- We can safely remove this single row without affecting our analysis\n",
    "\n",
    "**Brand/Product Target Column:**\n",
    "- 5,802 missing values, this is a high number\n",
    "- But since we will be focusing on sentiment classification rather than brand tracking, we can still proceed with our analysis\n",
    "\n",
    "**Sentiment Label Column:**\n",
    "- zero missing values\n",
    "- Every single tweet has a sentiment label (Positive, Negative, or Neutral)"
   ]
  },
  {
   "cell_type": "code",
   "execution_count": 17,
   "id": "583bfe91-dc7a-4b56-870e-ac2ca54509ca",
   "metadata": {},
   "outputs": [
    {
     "data": {
      "text/plain": [
       "22"
      ]
     },
     "execution_count": 17,
     "metadata": {},
     "output_type": "execute_result"
    }
   ],
   "source": [
    "# Check for completely duplicate rows in the dataset\n",
    "df.duplicated().sum()"
   ]
  },
  {
   "cell_type": "markdown",
   "id": "2d093b21-0149-485b-aa7d-b9d2500634d4",
   "metadata": {},
   "source": [
    "- Out of our 9,093 tweets22 duplicates\n",
    "- This represents about 0.24% of our data which is a very small size but we will take it out later"
   ]
  },
  {
   "cell_type": "markdown",
   "id": "a682e6e2-96f5-47ba-9f66-50185c2933db",
   "metadata": {},
   "source": [
    "### Conclusion"
   ]
  },
  {
   "cell_type": "markdown",
   "id": "30744ba1-9973-4143-8a78-ab0a7eff3b43",
   "metadata": {},
   "source": [
    "- Complete sentiment labels (0% missing in target variable)\n",
    "- One missing tweet text and significant missing brand data, though this doesn't impact our core sentiment analysis goal\n",
    "- 22 duplicate entries found that should be removed"
   ]
  },
  {
   "cell_type": "markdown",
   "id": "dccdb684-96e6-40a7-97c4-f03778508a5c",
   "metadata": {},
   "source": [
    "### Target Variable Initial Analysis\n",
    "- The target column is: `is_there_an_emotion_directed_at_a_brand_or_product`"
   ]
  },
  {
   "cell_type": "code",
   "execution_count": 22,
   "id": "7c12b060-0e41-4873-ae8e-2e66403914fb",
   "metadata": {},
   "outputs": [
    {
     "data": {
      "text/plain": [
       "is_there_an_emotion_directed_at_a_brand_or_product\n",
       "No emotion toward brand or product    5389\n",
       "Positive emotion                      2978\n",
       "Negative emotion                       570\n",
       "I can't tell                           156\n",
       "Name: count, dtype: int64"
      ]
     },
     "execution_count": 22,
     "metadata": {},
     "output_type": "execute_result"
    }
   ],
   "source": [
    "# Analyze the distribution of sentiment labels in our dataset\n",
    "df['is_there_an_emotion_directed_at_a_brand_or_product'].value_counts()"
   ]
  },
  {
   "cell_type": "markdown",
   "id": "30c18bd4-af14-4fd9-ac92-63c75f376d61",
   "metadata": {},
   "source": [
    "1. **Severe Class Imbalance**: This is a major challenge for our model\n",
    "   - Neutral tweets dominate the dataset (59%)\n",
    "   - Negative sentiment is significantly underrepresented (only 6%)\n",
    "\n",
    "2. **Data Quality Issue**: The \"I can't tell\" category (156 tweets) represents ambiguous labels that may need special handling\n",
    "\n",
    "3. We now can either use:\n",
    "   - **Binary Classification**: Focus only on Positive vs Negative emotions (dropping neutral/ambiguous tweets)\n",
    "   - **Multi-class Classification**: Handle all four categories with imbalance mitigation techniques"
   ]
  },
  {
   "cell_type": "markdown",
   "id": "d0057b36-7477-4be7-a944-885aff23258d",
   "metadata": {},
   "source": [
    "#### Visualizing Sentiment Distribution"
   ]
  },
  {
   "cell_type": "code",
   "execution_count": 25,
   "id": "eef78b13-53ab-4c0e-a932-61b77afe4a6d",
   "metadata": {},
   "outputs": [
    {
     "data": {
      "image/png": "[encoded data removed]",
      "text/plain": [
       "<Figure size 1200x500 with 2 Axes>"
      ]
     },
     "metadata": {},
     "output_type": "display_data"
    }
   ],
   "source": [
    "sentiment_counts = df['is_there_an_emotion_directed_at_a_brand_or_product'].value_counts()\n",
    "\n",
    "# Visualize sentiment distribution\n",
    "plt.figure(figsize=(12, 5))\n",
    "\n",
    "plt.subplot(1, 2, 1)\n",
    "sns.barplot(x=sentiment_counts.index, y=sentiment_counts.values)\n",
    "plt.title('Sentiment Distribution')\n",
    "plt.xticks(rotation=45)\n",
    "plt.ylabel('Number of Tweets')\n",
    "\n",
    "plt.subplot(1, 2, 2)\n",
    "plt.pie(sentiment_counts.values, labels=sentiment_counts.index, autopct='%1.1f%%', startangle=90)\n",
    "plt.title('Sentiment Proportion')\n",
    "\n",
    "plt.tight_layout()\n",
    "plt.show()"
   ]
  },
  {
   "cell_type": "markdown",
   "id": "935326a4-34a8-48d0-ba00-cd7f5b8ca684",
   "metadata": {},
   "source": [
    "**Insights:**\n",
    "\n",
    "1. **Dominance of Neutral Sentiment**: `No emotion toward brand or product` accounts for nearly 60% of all tweets, forming the majority class.\n",
    "\n",
    "2. **Significant Class Imbalance**: \n",
    "   - Positive sentiment represents about one-third of the data (32.8%)\n",
    "   - Negative sentiment is severely underrepresented at only 6.3%\n",
    "   - The \"I can't tell\" category is minimal at 1.7%\n",
    "\n",
    "3. **Business Implications**: \n",
    "   - The imbalance suggests we need careful model evaluation beyond simple accuracy\n",
    "   - Metrics like precision, recall, and F1-score will be crucial, especially for the minority negative class\n",
    "   - We may need techniques like class weighting or oversampling to handle the imbalance\n",
    "\n",
    "**Next Steps**: Given this distribution, we'll likely proceed with binary classification (Positive vs Negative) by filtering out neutral and ambiguous tweets for our initial model."
   ]
  },
  {
   "cell_type": "markdown",
   "id": "9fd38f2a-cd4e-45ae-abfc-aeed42ca7639",
   "metadata": {},
   "source": [
    "### BRAND MENTION ANALYSIS\n",
    "- Analyzing which brands are mentioned in the dataset"
   ]
  },
  {
   "cell_type": "code",
   "execution_count": 28,
   "id": "65520177-897f-47a8-a04d-0f799b2562a2",
   "metadata": {},
   "outputs": [
    {
     "data": {
      "text/plain": [
       "emotion_in_tweet_is_directed_at\n",
       "iPad                               946\n",
       "Apple                              661\n",
       "iPad or iPhone App                 470\n",
       "Google                             430\n",
       "iPhone                             297\n",
       "Other Google product or service    293\n",
       "Android App                         81\n",
       "Android                             78\n",
       "Other Apple product or service      35\n",
       "Name: count, dtype: int64"
      ]
     },
     "execution_count": 28,
     "metadata": {},
     "output_type": "execute_result"
    }
   ],
   "source": [
    "df['emotion_in_tweet_is_directed_at'].value_counts()"
   ]
  },
  {
   "cell_type": "markdown",
   "id": "4303397e-dca5-44da-a3f4-f3cba925f43f",
   "metadata": {},
   "source": [
    "**Key Observations:**\n",
    "\n",
    "1. **Apple Dominance**: Apple products (iPad, iPhone, Apple brand) account for the majority of mentions in the dataset\n",
    "2. **Product Focus**: Specific hardware products (iPad, iPhone) are discussed more frequently than general brand names(apple)\n",
    "\n",
    "**Note:** Remember that 64% of tweets don't have brand information, so these numbers only represent the tweets where the target brand was specified."
   ]
  },
  {
   "cell_type": "code",
   "execution_count": 30,
   "id": "dc39d596-b833-4d4c-b671-5cf1803f51af",
   "metadata": {},
   "outputs": [
    {
     "data": {
      "image/png": "[encoded data removed]",
      "text/plain": [
       "<Figure size 1000x600 with 1 Axes>"
      ]
     },
     "metadata": {},
     "output_type": "display_data"
    }
   ],
   "source": [
    "brand_counts = df['emotion_in_tweet_is_directed_at'].value_counts()\n",
    "\n",
    "# Visualize brand mentions\n",
    "plt.figure(figsize=(10, 6))\n",
    "brand_counts_plot = brand_counts.head(10)  # Top 10 brands\n",
    "sns.barplot(x=brand_counts_plot.values, y=brand_counts_plot.index)\n",
    "plt.title('Top 10 Brand Mentions')\n",
    "plt.xlabel('Number of Tweets')\n",
    "plt.tight_layout()\n",
    "plt.show()"
   ]
  },
  {
   "cell_type": "markdown",
   "id": "0a5cabee-2c7a-4f87-9c94-12f63c89b1a6",
   "metadata": {},
   "source": [
    "**Insights:**\n",
    "\n",
    "1. **Apple Product Dominance**: iPad leads as the most discussed product, followed by general Apple brand mentions and iPad/iPhone apps\n",
    "\n",
    "2. **Competitive Presence**: Google maintains a strong presence with 430 mentions.\n",
    "\n",
    "3. **Product vs Brand**: Specific products (iPad, iPhone) generate more discussion than general brand names, suggesting consumers tweet about specific experiences with hardware and apps\n",
    "\n",
    "4. The presence of both iOS and Android platforms indicates cross-platform comparisons and discussions\n",
    "\n",
    "**Strategic Implications for Apple Product Manager:**\n",
    "- iPad-related conversations are the most frequent, making this a key area for sentiment monitoring\n",
    "- App store sentiment (both iPad and iPhone apps) represents a significant portion of user feedback"
   ]
  },
  {
   "cell_type": "markdown",
   "id": "9085d281-0f8a-477e-a656-7cec15823bf4",
   "metadata": {},
   "source": [
    "## Test Data Characteristics Analysis"
   ]
  },
  {
   "cell_type": "code",
   "execution_count": 33,
   "id": "c55e48ff-0c06-44ea-bcea-7cff2dfceaa5",
   "metadata": {},
   "outputs": [
    {
     "data": {
      "text/plain": [
       "count    9092.000000\n",
       "mean      104.962275\n",
       "std        27.187640\n",
       "min        11.000000\n",
       "25%        86.000000\n",
       "50%       109.000000\n",
       "75%       126.000000\n",
       "max       178.000000\n",
       "Name: tweet_length, dtype: float64"
      ]
     },
     "execution_count": 33,
     "metadata": {},
     "output_type": "execute_result"
    }
   ],
   "source": [
    "# Calculate text statistics\n",
    "df['tweet_length'] = df['tweet_text'].str.len()\n",
    "df['tweet_length'].describe()"
   ]
  },
  {
   "cell_type": "markdown",
   "id": "df5a078f-4a20-4010-87df-791f9adcd087",
   "metadata": {},
   "source": [
    "**Analysis:**\n",
    "\n",
    "**Key Statistics:**\n",
    "- **Average tweet length**: 105 characters\n",
    "- **Shortest tweet**: 11 characters \n",
    "- **Longest tweet**: 178 characters \n",
    "- **Middle 50% of tweets**: Between 86 and 126 characters\n",
    "- **Standard deviation**: 27 characters\n",
    "\n",
    "**Interpretation:**\n",
    "\n",
    "1. Most tweets fall in the 86-126 character range, which is quite significant for sentiment analysis\n",
    "2. The average length suggests most tweets contain meaningful content rather than just brief mentions\n",
    "3. **Modeling Considerations**: \n",
    "   - Sufficient text length for our models to learn patterns\n",
    "   - Not too long to cause computational inefficiency\n",
    "   - Standard deviation of 27 shows consistent tweet lengths across the dataset\n",
    "\n",
    "**Note** The tweet lengths are well-distributed and of sufficient length to contain meaningful sentiment signals, which should help our classification models perform well."
   ]
  },
  {
   "cell_type": "code",
   "execution_count": 35,
   "id": "4eb15290-5ffa-4db1-817e-aed046b5d6c8",
   "metadata": {},
   "outputs": [
    {
     "data": {
      "text/html": [
       "<div>\n",
       "<style scoped>\n",
       "    .dataframe tbody tr th:only-of-type {\n",
       "        vertical-align: middle;\n",
       "    }\n",
       "\n",
       "    .dataframe tbody tr th {\n",
       "        vertical-align: top;\n",
       "    }\n",
       "\n",
       "    .dataframe thead tr th {\n",
       "        text-align: left;\n",
       "    }\n",
       "\n",
       "    .dataframe thead tr:last-of-type th {\n",
       "        text-align: right;\n",
       "    }\n",
       "</style>\n",
       "<table border=\"1\" class=\"dataframe\">\n",
       "  <thead>\n",
       "    <tr>\n",
       "      <th></th>\n",
       "      <th colspan=\"2\" halign=\"left\">tweet_length</th>\n",
       "    </tr>\n",
       "    <tr>\n",
       "      <th></th>\n",
       "      <th>mean</th>\n",
       "      <th>std</th>\n",
       "    </tr>\n",
       "    <tr>\n",
       "      <th>is_there_an_emotion_directed_at_a_brand_or_product</th>\n",
       "      <th></th>\n",
       "      <th></th>\n",
       "    </tr>\n",
       "  </thead>\n",
       "  <tbody>\n",
       "    <tr>\n",
       "      <th>I can't tell</th>\n",
       "      <td>103.98</td>\n",
       "      <td>27.91</td>\n",
       "    </tr>\n",
       "    <tr>\n",
       "      <th>Negative emotion</th>\n",
       "      <td>109.45</td>\n",
       "      <td>27.39</td>\n",
       "    </tr>\n",
       "    <tr>\n",
       "      <th>No emotion toward brand or product</th>\n",
       "      <td>104.19</td>\n",
       "      <td>27.13</td>\n",
       "    </tr>\n",
       "    <tr>\n",
       "      <th>Positive emotion</th>\n",
       "      <td>105.56</td>\n",
       "      <td>27.13</td>\n",
       "    </tr>\n",
       "  </tbody>\n",
       "</table>\n",
       "</div>"
      ],
      "text/plain": [
       "                                                   tweet_length       \n",
       "                                                           mean    std\n",
       "is_there_an_emotion_directed_at_a_brand_or_product                    \n",
       "I can't tell                                             103.98  27.91\n",
       "Negative emotion                                         109.45  27.39\n",
       "No emotion toward brand or product                       104.19  27.13\n",
       "Positive emotion                                         105.56  27.13"
      ]
     },
     "execution_count": 35,
     "metadata": {},
     "output_type": "execute_result"
    }
   ],
   "source": [
    "# Text statistics by sentiment\n",
    "\n",
    "text_stats_by_sentiment = df.groupby('is_there_an_emotion_directed_at_a_brand_or_product').agg({'tweet_length': ['mean', 'std']}).round(2)\n",
    "text_stats_by_sentiment"
   ]
  },
  {
   "cell_type": "markdown",
   "id": "b2865161-3871-4d26-a77e-a491c454b2d8",
   "metadata": {},
   "source": [
    "**Key Insights:**\n",
    "\n",
    "- Negative tweets tend to be longer\n",
    "\n",
    "- Positive tweets are moderate in length\n",
    "\n",
    "- Ambiguous tweets are shortest\n",
    "\n",
    "- The standard deviation is similar across all categories (27 characters), showing consistent length variability regardless of sentiment.\n",
    "\n",
    "**Business Implication**: The fact that negative tweets are longer could be valuable for customer service \n",
    "- users might be providing more detailed feedback when they're unhappy.\n",
    "\n",
    "**Note**: The differences being subtle suggests that tweet length could be a minor feature in our sentiment classification model."
   ]
  },
  {
   "cell_type": "markdown",
   "id": "ccc51388-dd31-41eb-92bb-1cad11aeab9a",
   "metadata": {},
   "source": [
    "### Visualising Text Characteristics By Sentiment"
   ]
  },
  {
   "cell_type": "code",
   "execution_count": 38,
   "id": "bdd44890-18a7-407b-a463-f79b9ca94d48",
   "metadata": {},
   "outputs": [
    {
     "data": {
      "image/png": "[encoded data removed]",
      "text/plain": [
       "<Figure size 1500x500 with 2 Axes>"
      ]
     },
     "metadata": {},
     "output_type": "display_data"
    }
   ],
   "source": [
    "target_col = 'is_there_an_emotion_directed_at_a_brand_or_product'\n",
    "# Create visualizations for tweet length analysis\n",
    "plt.figure(figsize=(15, 5))\n",
    "\n",
    "# Box plot: Tweet length distribution by sentiment category\n",
    "plt.subplot(1, 3, 1)\n",
    "sns.boxplot(data=df, x='is_there_an_emotion_directed_at_a_brand_or_product', y='tweet_length')\n",
    "plt.title('Tweet Length Distribution by Sentiment')\n",
    "plt.xticks(rotation=45)\n",
    "plt.ylabel('Tweet Length (characters)')\n",
    "\n",
    "# Histogram: Overall distribution of tweet lengths\n",
    "plt.subplot(1, 3, 2)\n",
    "sns.histplot(data=df, x='tweet_length', bins=30)\n",
    "plt.title('Overall Distribution of Tweet Lengths')\n",
    "plt.xlabel('Tweet Length (characters)')\n",
    "plt.ylabel('Number of Tweets')\n",
    "\n",
    "plt.tight_layout()\n",
    "plt.show()"
   ]
  },
  {
   "cell_type": "markdown",
   "id": "120f8284-340d-4723-98f5-c5bc9c843bdd",
   "metadata": {},
   "source": [
    "**Insights:**\n",
    "\n",
    "**Box Plot Observations:**\n",
    "- Negative emotion tweets show slightly higher median length, confirming our earlier finding\n",
    "  \n",
    "**Histogram Observations:**\n",
    "- Tweet lengths follow a roughly normal distribution with a peak around 115-130 characters\n",
    "- The distribution is slightly right-skewed, with more very short tweets than very long ones\n"
   ]
  },
  {
   "cell_type": "markdown",
   "id": "171e788d-d773-49b3-a18a-752c46839c9a",
   "metadata": {},
   "source": [
    "## Sample Tweet Analysis by Sentiment"
   ]
  },
  {
   "cell_type": "code",
   "execution_count": 41,
   "id": "6520db89-1b16-4c0f-85fb-7a9836017c9b",
   "metadata": {},
   "outputs": [
    {
     "name": "stdout",
     "output_type": "stream",
     "text": [
      "\n",
      "--- NEGATIVE EMOTION TWEETS (Sample) ---\n",
      "1. .@wesley83 I have a 3G iPhone. After 3 hrs tweeting at #RISE_Austin, it was dead!  I need to upgrade. Plugin stations at #SXSW.\n",
      "   Length: 127 chars, Words: 23\n",
      "\n",
      "2. @sxsw I hope this year's festival isn't as crashy as this year's iPhone app. #sxsw\n",
      "   Length: 82 chars, Words: 15\n",
      "\n",
      "3. I just noticed DST is coming this weekend. How many iPhone users will be an hour late at SXSW come Sunday morning? #SXSW #iPhone\n",
      "   Length: 128 chars, Words: 24\n",
      "\n",
      "4. @mention  - False Alarm: Google Circles Not Coming NowÛÒand Probably Not Ever? - {link} #Google #Circles #Social #SXSW\n",
      "   Length: 119 chars, Words: 18\n",
      "\n",
      "\n",
      "--- POSITIVE EMOTION TWEETS (Sample) ---\n",
      "1. @jessedee Know about @fludapp ? Awesome iPad/iPhone app that you'll likely appreciate for its design. Also, they're giving free Ts at #SXSW\n",
      "   Length: 139 chars, Words: 22\n",
      "\n",
      "2. @swonderlin Can not wait for #iPad 2 also. They should sale them down at #SXSW.\n",
      "   Length: 79 chars, Words: 15\n",
      "\n",
      "3. @sxtxstate great stuff on Fri #SXSW: Marissa Mayer (Google), Tim O'Reilly (tech books/conferences) &amp; Matt Mullenweg (Wordpress)\n",
      "   Length: 131 chars, Words: 17\n",
      "\n",
      "4. #SXSW is just starting, #CTIA is around the corner and #googleio is only a hop skip and a jump from there, good time to be an #android fan\n",
      "   Length: 138 chars, Words: 28\n",
      "\n",
      "\n",
      "--- NO EMOTION TOWARD BRAND OR PRODUCT TWEETS (Sample) ---\n",
      "1. @teachntech00 New iPad Apps For #SpeechTherapy And Communication Are Showcased At The #SXSW Conference http://ht.ly/49n4M #iear #edchat #asd\n",
      "   Length: 140 chars, Words: 18\n",
      "\n",
      "2. Holler Gram for iPad on the iTunes App Store -  http://t.co/kfN3f5Q (via @marc_is_ken) #sxsw\n",
      "   Length: 92 chars, Words: 14\n",
      "\n",
      "3. Attn: All  #SXSW frineds, @mention Register for #GDGTLive  and see Cobra iRadar for Android. {link}\n",
      "   Length: 99 chars, Words: 15\n",
      "\n",
      "4. Anyone at  #sxsw want to sell their old iPad?\n",
      "   Length: 45 chars, Words: 9\n",
      "\n",
      "\n",
      "--- I CAN'T TELL TWEETS (Sample) ---\n",
      "1. Thanks to @mention for publishing the news of @mention new medical Apps at the #sxswi conf. blog {link} #sxsw #sxswh\n",
      "   Length: 116 chars, Words: 20\n",
      "\n",
      "2. ÛÏ@mention &quot;Apple has opened a pop-up store in Austin so the nerds in town for #SXSW can get their new iPads. {link} #wow\n",
      "   Length: 127 chars, Words: 23\n",
      "\n",
      "3. Just what America needs. RT @mention Google to Launch Major New Social Network Called Circles, Possibly Today {link} #sxsw\n",
      "   Length: 122 chars, Words: 19\n",
      "\n",
      "4. The queue at the Apple Store in Austin is FOUR blocks long. Crazy stuff! #sxsw\n",
      "   Length: 78 chars, Words: 15\n",
      "\n"
     ]
    }
   ],
   "source": [
    "def display_sample_tweets(sentiment_type, n_samples=4):\n",
    "    samples = df[df[target_col] == sentiment_type]['tweet_text'].dropna().head(n_samples)\n",
    "    print(f\"\\n--- {sentiment_type.upper()} TWEETS (Sample) ---\")\n",
    "    for i, tweet in enumerate(samples, 1):\n",
    "        print(f\"{i}. {tweet}\")\n",
    "        print(f\"   Length: {len(tweet)} chars, Words: {len(tweet.split())}\")\n",
    "        print()\n",
    "\n",
    "# Display samples for each sentiment\n",
    "for sentiment in df[target_col].unique():\n",
    "    display_sample_tweets(sentiment)"
   ]
  },
  {
   "cell_type": "markdown",
   "id": "c6a0d6c9-8afe-43c2-b223-a83a99688f1b",
   "metadata": {},
   "source": [
    "### Negative Emotion Tweets (Sample)"
   ]
  },
  {
   "cell_type": "markdown",
   "id": "aace27a2-06d3-498c-bd2a-e8ffa5b7e96c",
   "metadata": {},
   "source": [
    "**Patterns Observed:**\n",
    "- **Complaints about functionality**: Battery life, app crashes, technical issues\n",
    "- **Frustration expression**: Words like \"dead\", \"crashy\", \"hope... isn't\"\n",
    "- **Problem-focused**: Specific issues with products during events like SXSW\n",
    "\n",
    "**Key Characteristics:**\n",
    "- Focus on product failures and inconveniences\n",
    "- Often mention specific events or contexts\n",
    "- Use of exclamation points and negative framing"
   ]
  },
  {
   "cell_type": "markdown",
   "id": "90dacbbb-41d3-4486-8c6c-7b4f14935836",
   "metadata": {},
   "source": [
    "### Positive Emotion Tweets (Sample)"
   ]
  },
  {
   "cell_type": "markdown",
   "id": "5e976a48-2cf4-478f-a7b9-4f68c39edb91",
   "metadata": {},
   "source": [
    "**Patterns Observed:**\n",
    "- **Praise for design and features**: \"Awesome\", \"great stuff\", \"appreciate\"\n",
    "- **Excitement and anticipation**: \"Can not wait\", \"likely appreciate\"\n",
    "- **Recommendations**: Suggesting apps to others\n",
    "- **Event enthusiasm**: Positive experiences at SXSW conference\n",
    "\n",
    "**Key Characteristics:**\n",
    "- Complimentary language and enthusiasm\n",
    "- Focus on aesthetics and user experience\n",
    "- Sharing positive discoveries with others"
   ]
  },
  {
   "cell_type": "markdown",
   "id": "e9431843-3f21-494b-9eab-5f8c22a4187e",
   "metadata": {},
   "source": [
    "### No Emotion Toward Brand Tweets (Sample)"
   ]
  },
  {
   "cell_type": "markdown",
   "id": "98d54e5e-6056-496c-b31a-592b58a9f520",
   "metadata": {},
   "source": [
    "**Patterns Observed:**\n",
    "- **Informational/neutral**: Factual announcements, links, event information\n",
    "- **Promotional content**: App store links, conference showcases\n",
    "- **Objective reporting**: Straightforward information without emotional language\n",
    "- **Hashtag-heavy**: Often include multiple topic tags\n",
    "\n",
    "**Key Characteristics:**\n",
    "- Neutral, factual language\n",
    "- Lack of emotional words or judgment\n",
    "- Focus on sharing information rather than expressing opinion"
   ]
  },
  {
   "cell_type": "markdown",
   "id": "f19c546c-cfb8-4431-a2aa-7733851cd60b",
   "metadata": {},
   "source": [
    "### I Can't Tell Tweets (Sample)"
   ]
  },
  {
   "cell_type": "markdown",
   "id": "2b9acc5a-36ac-410d-88f5-20e28c9902cc",
   "metadata": {},
   "source": [
    "**Patterns Observed:**\n",
    "- **Ambiguous context**: Mixed signals or unclear references\n",
    "- **Indirect mentions**: Brands mentioned in passing or third-party contexts\n",
    "- **Sarcasm potential**: Some tweets might contain subtle sarcasm\n",
    "- **News sharing**: Reporting news without clear personal stance\n",
    "\n",
    "**Key Characteristics:**\n",
    "- Context-dependent sentiment\n",
    "- Potential for misinterpretation\n",
    "- Often require deeper understanding of references"
   ]
  },
  {
   "cell_type": "markdown",
   "id": "b8084f9e-8f89-457d-af88-1b5a79f6080e",
   "metadata": {},
   "source": [
    "## Brand and Sentiment Cross-Analysis"
   ]
  },
  {
   "cell_type": "code",
   "execution_count": 51,
   "id": "3285695b-54c7-4cbe-82dc-da1439cb4da6",
   "metadata": {},
   "outputs": [
    {
     "data": {
      "text/plain": [
       "<Figure size 1200x600 with 0 Axes>"
      ]
     },
     "metadata": {},
     "output_type": "display_data"
    },
    {
     "data": {
      "image/png": "[encoded data removed]",
      "text/plain": [
       "<Figure size 640x480 with 1 Axes>"
      ]
     },
     "metadata": {},
     "output_type": "display_data"
    }
   ],
   "source": [
    "brand_col = 'emotion_in_tweet_is_directed_at'\n",
    "# Analyze relationship between brand mentions and sentiment\n",
    "if df[brand_col].notnull().sum() > 0:\n",
    "    brand_sentiment = pd.crosstab(df[brand_col], df[target_col], margins=True)\n",
    "    \n",
    "    # Visualize for top brands\n",
    "    top_brands = brand_counts.index[:5]  # Top 5 brands\n",
    "    brand_sentiment_top = pd.crosstab(\n",
    "        df[df[brand_col].isin(top_brands)][brand_col], \n",
    "        df[df[brand_col].isin(top_brands)][target_col]\n",
    "    )\n",
    "    \n",
    "    plt.figure(figsize=(12, 6))\n",
    "    brand_sentiment_top.plot(kind='bar', stacked=True)\n",
    "    plt.title('Sentiment Distribution for Top 5 Brands')\n",
    "    plt.xticks(rotation=45)\n",
    "    plt.ylabel('Number of Tweets')\n",
    "    plt.legend(title='Sentiment')\n",
    "    plt.tight_layout()\n",
    "    plt.show()"
   ]
  },
  {
   "cell_type": "markdown",
   "id": "8829c171-61d8-43e3-921a-d7371b9df249",
   "metadata": {},
   "source": [
    "# Data Cleaning"
   ]
  },
  {
   "cell_type": "markdown",
   "id": "4d161aa3-7b6f-40f8-8a27-774679898145",
   "metadata": {},
   "source": [
    "## Handling Missing Values"
   ]
  },
  {
   "cell_type": "markdown",
   "id": "990b2374-ca2f-4306-8db4-b176a763631a",
   "metadata": {},
   "source": [
    "**Problem:**\n",
    "- 5,784 tweets (about 64%) don't specify which brand the sentiment is directed at\n",
    "- This is a substantial amount of missing data\n",
    "\n",
    "**Solution:**\n",
    "- Create a binary flag `brand_specified` to track whether a tweet mentions a specific brand\n",
    "- This allows us to:\n",
    "  - Analyze patterns in tweets with vs without brand mentions\n",
    "  - Use this as a feature in our model if it proves useful"
   ]
  },
  {
   "cell_type": "code",
   "execution_count": 55,
   "id": "7d098254-66c0-41a6-b751-14cd2d195c91",
   "metadata": {},
   "outputs": [
    {
     "data": {
      "text/plain": [
       "tweet_text                                               1\n",
       "emotion_in_tweet_is_directed_at                       5802\n",
       "is_there_an_emotion_directed_at_a_brand_or_product       0\n",
       "tweet_length                                             1\n",
       "dtype: int64"
      ]
     },
     "execution_count": 55,
     "metadata": {},
     "output_type": "execute_result"
    }
   ],
   "source": [
    "df.isnull().sum()"
   ]
  },
  {
   "cell_type": "code",
   "execution_count": 56,
   "id": "5c0dbd94-f484-43d0-961b-921f156b58db",
   "metadata": {},
   "outputs": [
    {
     "data": {
      "text/plain": [
       "0"
      ]
     },
     "execution_count": 56,
     "metadata": {},
     "output_type": "execute_result"
    }
   ],
   "source": [
    "# For brand column, we'll create a flag for missing values\n",
    "df['brand_specified'] = df['emotion_in_tweet_is_directed_at'].notnull()\n",
    "df['brand_specified'].isnull().sum()"
   ]
  },
  {
   "cell_type": "markdown",
   "id": "e01b8908-4835-42f1-9f14-4706f0845456",
   "metadata": {},
   "source": [
    "## Removing duplicates and empty tweets"
   ]
  },
  {
   "cell_type": "markdown",
   "id": "34b0865f-d977-42c0-896b-a97c97bbd35b",
   "metadata": {},
   "source": [
    "- Removing duplicate tweets based on identical tweet text content\n",
    "- Dropping the single tweet with missing text content, removed 1 incomplete entry\n",
    "- Filtering out tweets with 2 words or less, removed tweets that lack sufficient context for sentiment analysis"
   ]
  },
  {
   "cell_type": "code",
   "execution_count": 59,
   "id": "05ba752b-a5b2-4bee-bbcf-423dcb43022c",
   "metadata": {},
   "outputs": [
    {
     "data": {
      "text/plain": [
       "9064"
      ]
     },
     "execution_count": 59,
     "metadata": {},
     "output_type": "execute_result"
    }
   ],
   "source": [
    "# Removing duplicates\n",
    "df = df.drop_duplicates(subset=['tweet_text'])\n",
    "\n",
    "# Removing tweets with missing text\n",
    "df = df.dropna(subset=['tweet_text'])\n",
    "\n",
    "# Removing very short tweets (2 words or less)\n",
    "df = df[df['tweet_text'].str.split().str.len() > 2]\n",
    "df.shape[0]"
   ]
  },
  {
   "cell_type": "markdown",
   "id": "98176c64-0d29-48ba-84c4-8fe9287382e1",
   "metadata": {},
   "source": [
    "**Result:** \n",
    "- New dataset size: 9,064 tweets"
   ]
  },
  {
   "cell_type": "markdown",
   "id": "b8215d9a-51ef-4fa6-b641-782a1d22fe96",
   "metadata": {},
   "source": [
    "## Mapping sentiment labels"
   ]
  },
  {
   "cell_type": "markdown",
   "id": "16b70200-4ef6-4f81-b550-546dbbbe133e",
   "metadata": {},
   "source": [
    "We'll map the sentiment labels into three clear categories:\n",
    "- **Positive emotion** → \"Positive\"\n",
    "- **Negative emotion** → \"Negative\" \n",
    "- **No emotion toward brand or product** → \"Neutral\"\n",
    "\n",
    "This gives us three distinct sentiment classes while maintaining all our data.\n",
    "\n",
    "**Benefits of Three-Class Approach:**\n",
    "- Preserves all available data for training\n",
    "- Allows flexibility to switch to binary classification later if needed"
   ]
  },
  {
   "cell_type": "code",
   "execution_count": 63,
   "id": "2d667577-1551-4b52-a611-66d0bbdd1acd",
   "metadata": {},
   "outputs": [],
   "source": [
    "# Creating simpler sentiment categories\n",
    "sentiment_map = {\n",
    "    'No emotion toward brand or product': 'Neutral',\n",
    "    'Positive emotion': 'Positive', \n",
    "    'Negative emotion': 'Negative',\n",
    "    \"I can't tell\": 'Neutral'\n",
    "}\n",
    "\n",
    "df['sentiment'] = df['is_there_an_emotion_directed_at_a_brand_or_product'].map(sentiment_map)"
   ]
  },
  {
   "cell_type": "code",
   "execution_count": 64,
   "id": "7fdb3712-cbfd-42ca-9f31-5a0aea9181e0",
   "metadata": {},
   "outputs": [
    {
     "name": "stdout",
     "output_type": "stream",
     "text": [
      "Final Sentiment Distribution\n"
     ]
    },
    {
     "data": {
      "text/plain": [
       "sentiment\n",
       "Neutral     5527\n",
       "Positive    2968\n",
       "Negative     569\n",
       "Name: count, dtype: int64"
      ]
     },
     "execution_count": 64,
     "metadata": {},
     "output_type": "execute_result"
    }
   ],
   "source": [
    "print('Final Sentiment Distribution')\n",
    "df['sentiment'].value_counts()"
   ]
  },
  {
   "cell_type": "markdown",
   "id": "5b84a768-b71e-463b-96e2-b657e0d93925",
   "metadata": {},
   "source": [
    "**Three-Class Classification**: We now have three clear sentiment categories\n",
    "   - This provides more nuanced analysis than binary classification\n",
    "   - Reflects real-world social media sentiment more accurately\n",
    "   - It gives us options because we can still do the binary classification\n",
    "\n",
    "**Class Imbalance**: Our dataset has significant class imbalance\n",
    "   - Neutral tweets dominate the dataset\n",
    "   - Negative sentiment is severely underrepresented (only 6%)\n"
   ]
  },
  {
   "cell_type": "code",
   "execution_count": 66,
   "id": "791b805f-753a-4bf4-b60f-e3e55abe941e",
   "metadata": {},
   "outputs": [
    {
     "data": {
      "image/png": "[encoded data removed]",
      "text/plain": [
       "<Figure size 1000x500 with 2 Axes>"
      ]
     },
     "metadata": {},
     "output_type": "display_data"
    }
   ],
   "source": [
    "original_sentiments = df['is_there_an_emotion_directed_at_a_brand_or_product'].value_counts()\n",
    "mapped_sentiments = df['sentiment'].value_counts()\n",
    "\n",
    "# Visualize the new distribution\n",
    "plt.figure(figsize=(10, 5))\n",
    "plt.subplot(1, 2, 1)\n",
    "sns.barplot(x=original_sentiments.index, y=original_sentiments.values)\n",
    "plt.title('Original Sentiment Labels')\n",
    "plt.xticks(rotation=45)\n",
    "\n",
    "plt.subplot(1, 2, 2)\n",
    "sns.barplot(x=mapped_sentiments.index, y=mapped_sentiments.values)\n",
    "plt.title('Mapped Sentiment Labels')\n",
    "plt.tight_layout()\n",
    "plt.show()"
   ]
  },
  {
   "cell_type": "markdown",
   "id": "b230ad32-5542-4efa-a989-8977f59458d5",
   "metadata": {},
   "source": [
    "## Filtering for Apple-related tweets"
   ]
  },
  {
   "cell_type": "markdown",
   "id": "b1592bbe-b6be-4b0a-9eed-d1da6603de94",
   "metadata": {},
   "source": [
    "We'll now create another dataset to focus exclusively on Apple-related tweets. This ensures our analysis and model are tailored to the specific products and brand our stakeholder cares about most and we cn still monitor the other products using the main dataset\n",
    "\n",
    "We'll include tweets that mention:\n",
    "- **iPad** - Tablet products and ecosystem\n",
    "- **iPhone** - Mobile devices and services  \n",
    "- **Apple** - General brand discussions\n",
    "- **iPad or iPhone App** - App store and software ecosystem\n",
    "- **Other Apple product or service** - Additional Apple offerings\n",
    "\n",
    "This focused approach will provide cleaner for product improvement and customer sentiment tracking."
   ]
  },
  {
   "cell_type": "code",
   "execution_count": 69,
   "id": "6a9e3f18-040a-4f8d-b8f5-429a2c98e5a2",
   "metadata": {},
   "outputs": [
    {
     "name": "stdout",
     "output_type": "stream",
     "text": [
      "Brand mentions before filtering:\n",
      "emotion_in_tweet_is_directed_at\n",
      "iPad                               943\n",
      "Apple                              659\n",
      "iPad or iPhone App                 469\n",
      "Google                             428\n",
      "iPhone                             296\n",
      "Other Google product or service    293\n",
      "Android App                         80\n",
      "Android                             77\n",
      "Other Apple product or service      35\n",
      "Name: count, dtype: int64\n"
     ]
    }
   ],
   "source": [
    "print(\"Brand mentions before filtering:\")\n",
    "print(df['emotion_in_tweet_is_directed_at'].value_counts().head(10))"
   ]
  },
  {
   "cell_type": "code",
   "execution_count": 70,
   "id": "28012130-46a0-4a61-acec-103c75dc9a6b",
   "metadata": {},
   "outputs": [],
   "source": [
    "# Filter for Apple-related tweets\n",
    "apple_keywords = ['apple', 'iphone', 'ipad', 'macbook', 'mac', 'ios', 'app store', 'itunes']\n",
    "apple_brands = ['Apple', 'Other Apple product or service']\n",
    "\n",
    "# Creating a function to identify Apple-related tweets\n",
    "def is_apple_related(tweet, brand):\n",
    "    # Check brand column\n",
    "    if pd.notna(brand) and any(apple in str(brand).lower() for apple in ['apple']):\n",
    "        return True\n",
    "    # Check tweet text\n",
    "    if any(keyword in str(tweet).lower() for keyword in apple_keywords):\n",
    "        return True\n",
    "    return False\n",
    "\n",
    "# Apply filtering\n",
    "df['is_apple_related'] = df.apply(lambda x: is_apple_related(x['tweet_text'], x['emotion_in_tweet_is_directed_at']), axis=1)"
   ]
  },
  {
   "cell_type": "code",
   "execution_count": 71,
   "id": "842f1ec8-d188-45e9-a68e-6032f0b4f667",
   "metadata": {},
   "outputs": [
    {
     "name": "stdout",
     "output_type": "stream",
     "text": [
      "Number of Apple-related tweets: 5633\n",
      "Percentage of dataset that is Apple-related: 62.15%\n",
      "\n",
      "Apple-focused dataset shape: (5633, 7)\n",
      "Sentiment distribution in Apple-focused dataset:\n",
      "sentiment\n",
      "Neutral     3055\n",
      "Positive    2151\n",
      "Negative     427\n",
      "Name: count, dtype: int64\n"
     ]
    }
   ],
   "source": [
    "print(f\"Number of Apple-related tweets: {df['is_apple_related'].sum()}\")\n",
    "print(f\"Percentage of dataset that is Apple-related: {(df['is_apple_related'].sum() / len(df) * 100):.2f}%\")\n",
    "\n",
    "# Create filtered dataset for Apple-specific analysis\n",
    "apple_df = df[df['is_apple_related'] == True].copy()\n",
    "print(f\"\\nApple-focused dataset shape: {apple_df.shape}\")\n",
    "print(\"Sentiment distribution in Apple-focused dataset:\")\n",
    "print(apple_df['sentiment'].value_counts())"
   ]
  },
  {
   "cell_type": "markdown",
   "id": "7fceaaca-a99a-42eb-9509-0954fea85007",
   "metadata": {},
   "source": [
    "**Dataset Composition:**\n",
    "- **Total Apple-related tweets**: 5,633 tweets\n",
    "- **Percentage of full dataset**: 62.15% \n",
    "- **Remaining columns**: 8 features including our new engineered ones\n",
    "\n",
    "**Sentiment Distribution for Apple Products:**\n",
    "- **Neutral**: 3,055 tweets (54.2%)\n",
    "- **Positive**: 2,151 tweets (38.2%)\n",
    "- **Negative**: 427 tweets (7.6%)\n",
    "\n",
    "**Insights**\n",
    "\n",
    "1. **Strong Positive Sentiment**: 38% of Apple-related tweets are positive, indicating good product reception\n",
    "3. **High Engagement**: Over 60% of all tweets in our dataset mention Apple products, showing strong brand presence\n",
    "4. **Improved Balance**: The Apple-focused dataset has better class distribution than the full dataset\n"
   ]
  },
  {
   "cell_type": "markdown",
   "id": "55cfe317-3114-42c9-8d14-e7dbd359c647",
   "metadata": {},
   "source": [
    "## Text Preprocessing"
   ]
  },
  {
   "cell_type": "markdown",
   "id": "16155ca3-6028-4d9c-9c82-65d1315d01bd",
   "metadata": {},
   "source": [
    "**We will create a function tthat:**\n",
    "\n",
    "1. **Lowercasing**: All text converted to lowercase\n",
    "   - `iPhone` → `iphone`, `iPad` → `ipad`\n",
    "   - Ensures consistent treatment of same words\n",
    "\n",
    "2. **Removing User Mentions**: Twitter handles starting with @ removed\n",
    "   - `@wesley83`, `@jessedee`, `@swonderlin` removed\n",
    "   - These are user-specific and don't carry general sentiment\n",
    "\n",
    "3. **Preserving Hashtags**: Hashtags like `#RISE_Austin`, `#iPad`, `#SXSW` kept but lowercased\n",
    "   - Hashtags can carry sentiment meaning (`#love`, `#hate`)\n",
    "   - We keep them for potential sentiment signals\n",
    "     \n",
    "4. **Removing URLs and special characters**\n",
    "\n",
    "5. **Remove Stop words and short words and also lemmatize**\n",
    "    - Stopword removal - filter out common words without semantic value\n",
    "    - Lemmatization - reduce words to their base dictionary form\n",
    "    - Length filtering - remove very short tokens"
   ]
  },
  {
   "cell_type": "code",
   "execution_count": 75,
   "id": "e0d4a0c9-e4f7-4f4b-b7a7-ba2c9dd9718d",
   "metadata": {},
   "outputs": [],
   "source": [
    "import nltk\n",
    "from nltk.corpus import stopwords\n",
    "import re\n",
    "from nltk.stem import WordNetLemmatizer\n",
    "from nltk.tokenize import word_tokenize\n",
    "\n",
    "# Download required NLTK data\n",
    "nltk.download('stopwords', quiet=True)\n",
    "nltk.download('wordnet', quiet=True)\n",
    "nltk.download('punkt', quiet=True)\n",
    "\n",
    "# Initialize lemmatizer and stopwords\n",
    "lemmatizer = WordNetLemmatizer()\n",
    "stop_words = set(stopwords.words('english'))"
   ]
  },
  {
   "cell_type": "code",
   "execution_count": 76,
   "id": "8cb90aef-6540-43f9-9d91-11b113179c5c",
   "metadata": {},
   "outputs": [
    {
     "name": "stdout",
     "output_type": "stream",
     "text": [
      "Original: .@wesley83 I have a 3G iPhone. After 3 hrs tweeting at #RISE_Austin, it was dead!  I need to upgrade. Plugin stations at #SXSW.\n",
      "Processed: iphone hr tweeting rise_austin dead need upgrade plugin station sxsw\n",
      "\n",
      "Original: @jessedee Know about @fludapp ? Awesome iPad/iPhone app that you'll likely appreciate for its design. Also, they're giving free Ts at #SXSW\n",
      "Processed: know awesome ipadiphone app youll likely appreciate design also theyre giving free sxsw\n",
      "\n",
      "Original: @swonderlin Can not wait for #iPad 2 also. They should sale them down at #SXSW.\n",
      "Processed: wait ipad also sale sxsw\n",
      "\n"
     ]
    }
   ],
   "source": [
    "def preprocess_tweet(text):\n",
    "    \"\"\"\n",
    "    Comprehensive text preprocessing for Twitter data\n",
    "    \"\"\"\n",
    "    if pd.isna(text):\n",
    "        return \"\"\n",
    "    \n",
    "    # Convert to lowercase\n",
    "    text = text.lower()\n",
    "    \n",
    "    # Remove URLs\n",
    "    text = re.sub(r'http\\S+|www\\S+|https\\S+', '', text, flags=re.MULTILINE)\n",
    "    \n",
    "    # Remove user mentions and hashtags (but keep the text content)\n",
    "    text = re.sub(r'@\\w+', '', text)\n",
    "    text = re.sub(r'#', '', text)\n",
    "    \n",
    "    # Remove punctuation and numbers\n",
    "    text = re.sub(r'[^\\w\\s]', '', text)\n",
    "    text = re.sub(r'\\d+', '', text)\n",
    "    \n",
    "    # Tokenize\n",
    "    tokens = word_tokenize(text)\n",
    "    \n",
    "    # Remove stopwords and short tokens, and lemmatize\n",
    "    processed_tokens = [\n",
    "        lemmatizer.lemmatize(token) for token in tokens \n",
    "        if token not in stop_words and len(token) > 2\n",
    "    ]\n",
    "    \n",
    "    return ' '.join(processed_tokens)\n",
    "\n",
    "# Testing the preprocessing function\n",
    "sample_tweets = df['tweet_text'].head(3)\n",
    "for i, tweet in enumerate(sample_tweets):\n",
    "    print(f\"Original: {tweet}\")\n",
    "    print(f\"Processed: {preprocess_tweet(tweet)}\")\n",
    "    print()"
   ]
  },
  {
   "cell_type": "markdown",
   "id": "af91cf25-7842-42bd-83b5-c7fe9c550e6e",
   "metadata": {},
   "source": [
    "### Applying text preprocessing to all tweets"
   ]
  },
  {
   "cell_type": "markdown",
   "id": "4c6ac53a-8318-415b-b903-b35e3612e7ae",
   "metadata": {},
   "source": [
    "Now we'll apply our comprehensive preprocessing function to the entire Apple-focused dataset.\n",
    "\n",
    "The preprocessing pipeline will:\n",
    "- Remove noise (URLs, mentions, punctuation)\n",
    "- Standardize text format (lowercase, lemmatization)\n",
    "- Extract meaningful words and patterns\n",
    "- Prepare the text for vectorization\n",
    "\n",
    "This ensures our sentiment analysis model focuses on the actual content and sentiment-bearing words rather than Twitter-specific formatting."
   ]
  },
  {
   "cell_type": "code",
   "execution_count": 79,
   "id": "22f5ea6b-43b3-4331-972f-b65c744e036e",
   "metadata": {},
   "outputs": [
    {
     "name": "stdout",
     "output_type": "stream",
     "text": [
      "Average tweet length reduced from 105.0 to 67.9 characters\n",
      "\n",
      "Preprocessing examples:\n",
      "Before: .@wesley83 I have a 3G iPhone. After 3 hrs tweeting at #RISE_Austin, it was dead!  I need to upgrade. Plugin stations at #SXSW.\n",
      "After:  iphone hr tweeting rise_austin dead need upgrade plugin station sxsw\n",
      "\n",
      "Before: @jessedee Know about @fludapp ? Awesome iPad/iPhone app that you'll likely appreciate for its design. Also, they're giving free Ts at #SXSW\n",
      "After:  know awesome ipadiphone app youll likely appreciate design also theyre giving free sxsw\n",
      "\n"
     ]
    }
   ],
   "source": [
    "# Applying to both datasets\n",
    "df['cleaned_text'] = df['tweet_text'].apply(preprocess_tweet)\n",
    "apple_df['cleaned_text'] = apple_df['tweet_text'].apply(preprocess_tweet)\n",
    "\n",
    "print(f\"Average tweet length reduced from {df['tweet_text'].str.len().mean():.1f} to {df['cleaned_text'].str.len().mean():.1f} characters\")\n",
    "\n",
    "# Show examples\n",
    "print(\"\\nPreprocessing examples:\")\n",
    "for i in range(2):\n",
    "    print(f\"Before: {df.iloc[i]['tweet_text']}\")\n",
    "    print(f\"After:  {df.iloc[i]['cleaned_text']}\")\n",
    "    print()"
   ]
  },
  {
   "cell_type": "markdown",
   "id": "e3eb8523-269f-4df2-a24f-70d607337327",
   "metadata": {},
   "source": [
    "**Preprocessing Impact Analysis:**\n",
    "\n",
    "**Text Length Reduction:**\n",
    "- **Before preprocessing**: 105.0 characters average\n",
    "- **After preprocessing**: 67.9 characters average  \n",
    "- **Reduction**: 35.3% decrease in text length\n",
    "\n",
    "**What This Reduction Means:**\n",
    "- Removed noise (URLs, mentions, punctuation, stopwords)\n",
    "- Preserved meaningful content-carrying words\n",
    "- More efficient processing for machine learning models\n",
    "- Focus on sentiment-bearing vocabulary\n",
    "\n",
    "**Cleaning Effectiveness**\n",
    "\n",
    "**Example 1 - Technical Complaint:**\n",
    "- **Removed**: User mentions (@wesley83), numbers (3G, 3), punctuation, stopwords\n",
    "- **Preserved**: Key sentiment words - \"iphone\", \"dead\", \"upgrade\"\n",
    "- **Result**: Cleaner focus on the actual complaint about battery life\n",
    "\n",
    "**Example 2 - Positive Recommendation:**\n",
    "- **Removed**: User mentions (@jessedee, @fludapp), punctuation, stopwords\n",
    "- **Preserved**: Positive descriptors - \"awesome\", \"app\", \"design\", \"free\" \n",
    "- **Result**: Clearer expression of positive sentiment and appreciation"
   ]
  },
  {
   "cell_type": "markdown",
   "id": "23a55789-8fff-4e5d-987b-81776177a272",
   "metadata": {},
   "source": [
    "### Analyzing Preprocessing Results"
   ]
  },
  {
   "cell_type": "code",
   "execution_count": 93,
   "id": "f4230642-938b-4fa3-887f-815b27059f7b",
   "metadata": {},
   "outputs": [
    {
     "data": {
      "image/png": "[encoded data removed]",
      "text/plain": [
       "<Figure size 1500x500 with 3 Axes>"
      ]
     },
     "metadata": {},
     "output_type": "display_data"
    },
    {
     "name": "stdout",
     "output_type": "stream",
     "text": [
      "Tweets that became empty after cleaning: 0 (0.00%)\n"
     ]
    }
   ],
   "source": [
    "df['cleaned_length'] = df['cleaned_text'].str.len()\n",
    "df['cleaned_word_count'] = df['cleaned_text'].str.split().str.len()\n",
    "\n",
    "# Compare original vs cleaned\n",
    "plt.figure(figsize=(15, 5))\n",
    "plt.subplot(1, 3, 1)\n",
    "df['original_length'] = df['tweet_text'].str.len()\n",
    "sns.boxplot(data=df[['original_length', 'cleaned_length']])\n",
    "plt.title('Text Length: Original vs Cleaned')\n",
    "plt.xticks([0, 1], ['Original', 'Cleaned'])\n",
    "\n",
    "\n",
    "plt.subplot(1, 3, 2)\n",
    "df['original_word_count'] = df['tweet_text'].str.split().str.len()\n",
    "sns.boxplot(data=df[['original_word_count', 'cleaned_word_count']])\n",
    "plt.title('Word Count: Original vs Cleaned')\n",
    "plt.xticks([0, 1], ['Original', 'Cleaned'])\n",
    "\n",
    "\n",
    "plt.subplot(1, 3, 3)\n",
    "# Check for empty tweets after cleaning\n",
    "empty_after_cleaning = (df['cleaned_word_count'] == 0).sum()\n",
    "sns.barplot(x=['Valid Tweets', 'Empty After Cleaning'], \n",
    "            y=[len(df) - empty_after_cleaning, empty_after_cleaning])\n",
    "plt.title('Tweets Valid After Cleaning')\n",
    "\n",
    "plt.tight_layout()\n",
    "plt.show()\n",
    "\n",
    "print(f\"Tweets that became empty after cleaning: {empty_after_cleaning} ({(empty_after_cleaning/len(df)*100):.2f}%)\")"
   ]
  },
  {
   "cell_type": "markdown",
   "id": "dd0977d1-3651-408c-a807-6edce93e8ef7",
   "metadata": {},
   "source": [
    "**Box Plot 1 - Text Length:**\n",
    "- **Original tweets**: Wider distribution with longer tails\n",
    "- **Cleaned tweets**: More compact, consistent length\n",
    "- Shows significant noise reduction while preserving core content\n",
    "\n",
    "**Box Plot 2 - Word Count:**\n",
    "- **Original tweets**: Higher word count with more variability\n",
    "- **Cleaned tweets**: Reduced but more meaningful word selection\n",
    "- Demonstrates effective stopword removal and token filtering\n",
    "\n",
    "**Bar Chart 3 - Data Retention:**\n",
    "- Shows how many tweets remained valid after aggressive cleaning(0)"
   ]
  },
  {
   "cell_type": "markdown",
   "id": "97a512d6-41bc-45ca-ac7e-32f99ba4803a",
   "metadata": {},
   "source": [
    "## Train-Test-Validation split"
   ]
  },
  {
   "cell_type": "code",
   "execution_count": 95,
   "id": "65e57e76-f198-4cc3-a3a0-39ddd9ce8a85",
   "metadata": {},
   "outputs": [
    {
     "name": "stdout",
     "output_type": "stream",
     "text": [
      "Dataset Split Summary:\n",
      "Full dataset - Train: 5891, Val: 1360, Test: 1813\n",
      "Apple dataset - Train: 3661, Val: 845, Test: 1127\n"
     ]
    }
   ],
   "source": [
    "from sklearn.model_selection import train_test_split\n",
    "\n",
    "def create_stratified_splits(dataframe, target_col='sentiment', test_size=0.2, val_size=0.15):\n",
    "    \"\"\"\n",
    "    Create stratified train, validation, and test splits\n",
    "    \"\"\"\n",
    "    # First split: separate test set\n",
    "    train_val_df, test_df = train_test_split(\n",
    "        dataframe, \n",
    "        test_size=test_size, \n",
    "        stratify=dataframe[target_col],\n",
    "        random_state=42\n",
    "    )\n",
    "    \n",
    "    # Second split: separate validation set from train/val\n",
    "    val_ratio = val_size / (1 - test_size)\n",
    "    train_df, val_df = train_test_split(\n",
    "        train_val_df,\n",
    "        test_size=val_ratio,\n",
    "        stratify=train_val_df[target_col],\n",
    "        random_state=42\n",
    "    )\n",
    "    \n",
    "    return train_df, val_df, test_df\n",
    "\n",
    "# Create splits for full dataset\n",
    "train_full, val_full, test_full = create_stratified_splits(df)\n",
    "\n",
    "# Create splits for Apple-focused dataset  \n",
    "train_apple, val_apple, test_apple = create_stratified_splits(apple_df)\n",
    "\n",
    "print(\"Dataset Split Summary:\")\n",
    "print(f\"Full dataset - Train: {len(train_full)}, Val: {len(val_full)}, Test: {len(test_full)}\")\n",
    "print(f\"Apple dataset - Train: {len(train_apple)}, Val: {len(val_apple)}, Test: {len(test_apple)}\")"
   ]
  },
  {
   "cell_type": "markdown",
   "id": "c172142b-4fb6-48c3-96a4-5dc3bbd1f721",
   "metadata": {},
   "source": [
    "## Conclusion"
   ]
  },
  {
   "cell_type": "markdown",
   "id": "7024e98a-4042-4851-80e7-deb203431f91",
   "metadata": {},
   "source": [
    "**Cleaning & Processing**\n",
    "- Removed duplicates, empty tweets, and very short texts\n",
    "- Standardized sentiment labels: Positive, Negative, Neutral\n",
    "- Created Apple-focused dataset (5,633 tweets) and kept the original dataset\n",
    "- Applied text preprocessing: cleaning, tokenization, lemmatization\n",
    "\n",
    "**Current Dataset** (apple-focused)\n",
    "- **Total Tweets**: 5,633\n",
    "- **Sentiment Distribution**:\n",
    "  - Neutral: 3,055 (54%)\n",
    "  - Positive: 2,151 (38%)\n",
    "  - Negative: 427 (8%)\n",
    "\n",
    "**Key Consideration**\n",
    "- **Class imbalance present** - will be handled during modeling\n",
    "- Proceeding with three-class classification for nuanced insights\n",
    "\n",
    "**Next Steps**\n",
    "Data is now ready for model training with clean features and clear labels."
   ]
  },
  {
   "cell_type": "markdown",
   "id": "ab807a47-a3ad-446e-a350-ace0c0630fef",
   "metadata": {},
   "source": [
    "# Modeling"
   ]
  },
  {
   "cell_type": "markdown",
   "id": "e28b669c-352f-4c96-89e3-57ea514518b9",
   "metadata": {},
   "source": [
    "We are going to start the modeling phase. We'll proceed step by step, building one model at a time iteratively.\n",
    "\n",
    "Steps for Modeling Phase:\n",
    "\n",
    "1. **Feature Extraction:** Convert the cleaned text into numerical features (e.g., TF-IDF, CountVectorizer)\n",
    "2. **Model Building:** Start with a baseline model and then try more advanced models.\n",
    "3. **Model Evaluation:** Use the validation set to tune hyperparameters and the test set for final evaluation.\n",
    "\n",
    "We are going to use the following models in order:\n",
    "1. **Logistic Regression** (as a baseline)\n",
    "2. **Naive Bayes** \n",
    "3. **Random Forest**\n",
    "\n",
    "- We'll handle class imbalance during model training by using class weights.\n",
    "\n",
    "Let's start with the first model: Naive Bayes.\n",
    "\n",
    "- But first, we need to convert our text data into numerical features. We'll use TF-IDF.\n",
    "\n",
    "- **Note:** We are going to use the Apple-focused dataset for modeling because our stakeholder is interested in Apple products. However, note that the Apple dataset is smaller. We might also consider using the full dataset and then filtering for Apple in production, but for now, let's use the Apple dataset.\n",
    "\n",
    "Steps for Feature Extraction:\n",
    "\n",
    "- We'll use TF-IDF on the 'cleaned_text' column.\n",
    "\n",
    "- We'll fit the TF-IDF vectorizer on the training set and then transform the train, validation, and test sets."
   ]
  },
  {
   "cell_type": "code",
   "execution_count": 97,
   "id": "a7187da7-1f88-4393-8321-28062ce119e7",
   "metadata": {},
   "outputs": [],
   "source": [
    "# Import necessary libraries\n",
    "from sklearn.feature_extraction.text import TfidfVectorizer\n",
    "from sklearn.linear_model import LogisticRegression\n",
    "from sklearn.metrics import classification_report, confusion_matrix, accuracy_score\n",
    "import numpy as np"
   ]
  },
  {
   "cell_type": "markdown",
   "id": "1013b09f-2534-4539-bd98-f92cd6b58cdd",
   "metadata": {},
   "source": [
    "## Feature Preparation"
   ]
  },
  {
   "cell_type": "markdown",
   "id": "1437d66b-25c0-4d38-b712-5aa4739f5f30",
   "metadata": {},
   "source": [
    "### Preparing features and target variables"
   ]
  },
  {
   "cell_type": "code",
   "execution_count": null,
   "id": "93d19df8-a5e1-4313-abb8-3eb585b1fa4c",
   "metadata": {},
   "outputs": [],
   "source": [
    "final_df = df[['cleaned_text', 'sentiment']].copy()\n",
    "final_df.head()"
   ]
  },
  {
   "cell_type": "code",
   "execution_count": null,
   "id": "952af0b3-e8e9-45cf-8539-4f18dcacf33b",
   "metadata": {},
   "outputs": [],
   "source": [
    "final_df.columns"
   ]
  },
  {
   "cell_type": "code",
   "execution_count": 99,
   "id": "3237dc3c-8fc3-48c7-82a3-e93cac1d03d6",
   "metadata": {},
   "outputs": [
    {
     "name": "stdout",
     "output_type": "stream",
     "text": [
      "Data shapes:\n",
      "Training: 3661 tweets\n",
      "Validation: 845 tweets\n",
      "Test: 1127 tweets\n",
      "\n",
      "Target distribution (Training set):\n",
      "sentiment\n",
      "Neutral     1986\n",
      "Positive    1398\n",
      "Negative     277\n",
      "Name: count, dtype: int64\n"
     ]
    }
   ],
   "source": [
    "# Using our Apple-focused dataset\n",
    "X_train = train_apple['cleaned_text']\n",
    "y_train = train_apple['sentiment']\n",
    "\n",
    "X_val = val_apple['cleaned_text'] \n",
    "y_val = val_apple['sentiment']\n",
    "\n",
    "X_test = test_apple['cleaned_text']\n",
    "y_test = test_apple['sentiment']\n",
    "\n",
    "print(\"Data shapes:\")\n",
    "print(f\"Training: {X_train.shape[0]} tweets\")\n",
    "print(f\"Validation: {X_val.shape[0]} tweets\")\n",
    "print(f\"Test: {X_test.shape[0]} tweets\")\n",
    "\n",
    "print(\"\\nTarget distribution (Training set):\")\n",
    "print(y_train.value_counts())"
   ]
  },
  {
   "cell_type": "markdown",
   "id": "303fcb02-13ef-4061-80d0-eef73257e90a",
   "metadata": {},
   "source": [
    "### Converting text to numbers with TF-IDF"
   ]
  },
  {
   "cell_type": "code",
   "execution_count": 101,
   "id": "48c6b500-41ce-46f0-a9a8-e9539e069649",
   "metadata": {},
   "outputs": [
    {
     "name": "stdout",
     "output_type": "stream",
     "text": [
      "Vocabulary size: 1810 features\n",
      "Training features shape: (3661, 1810)\n"
     ]
    }
   ],
   "source": [
    "# Initialize TF-IDF Vectorizer\n",
    "tfidf = TfidfVectorizer(\n",
    "    max_features=5000,    # Limit vocabulary size\n",
    "    min_df=5,             # Ignore words that appear in less than 5 documents\n",
    "    max_df=0.7,           # Ignore words that appear in more than 70% of documents\n",
    "    ngram_range=(1, 2)    # Use both single words and word pairs\n",
    ")\n",
    "\n",
    "# Fit on training data, transform all sets\n",
    "X_train_tfidf = tfidf.fit_transform(X_train)\n",
    "X_val_tfidf = tfidf.transform(X_val)\n",
    "X_test_tfidf = tfidf.transform(X_test)\n",
    "\n",
    "print(f\"Vocabulary size: {len(tfidf.vocabulary_)} features\")\n",
    "print(f\"Training features shape: {X_train_tfidf.shape}\")"
   ]
  },
  {
   "cell_type": "markdown",
   "id": "c5c48722-6b09-4542-bfe7-044170946640",
   "metadata": {},
   "source": [
    "### Handling class imbalance with class weights"
   ]
  },
  {
   "cell_type": "code",
   "execution_count": 103,
   "id": "d6f5e012-d14a-406a-91e9-c7ad39b0f489",
   "metadata": {},
   "outputs": [
    {
     "name": "stdout",
     "output_type": "stream",
     "text": [
      "Class weights calculated:\n",
      "  Negative: 4.41 (count: 277)\n",
      "  Neutral: 0.61 (count: 1986)\n",
      "  Positive: 0.87 (count: 1398)\n"
     ]
    }
   ],
   "source": [
    "from sklearn.utils import class_weight\n",
    "\n",
    "# Calculate class weights\n",
    "classes = np.unique(y_train)\n",
    "class_weights = class_weight.compute_class_weight(\n",
    "    'balanced',\n",
    "    classes=classes,\n",
    "    y=y_train\n",
    ")\n",
    "\n",
    "class_weight_dict = dict(zip(classes, class_weights))\n",
    "\n",
    "print(\"Class weights calculated:\")\n",
    "for sentiment, weight in class_weight_dict.items():\n",
    "    count = (y_train == sentiment).sum()\n",
    "    print(f\"  {sentiment}: {weight:.2f} (count: {count})\")"
   ]
  },
  {
   "cell_type": "markdown",
   "id": "54ab8726-9c27-4d1c-97fd-47386462110f",
   "metadata": {},
   "source": [
    "Why class weights matter:\n",
    "- The model will pay more attention to minority classes during training\n",
    "- Prevents the model from always predicting the majority class"
   ]
  },
  {
   "cell_type": "markdown",
   "id": "43e37e61-83c1-4048-8783-7d5ee0dddb94",
   "metadata": {},
   "source": [
    "## Baseline Model (Logistic Regression)"
   ]
  },
  {
   "cell_type": "markdown",
   "id": "9a432207-b61d-4a9a-86c0-dc79b0152419",
   "metadata": {},
   "source": [
    "### Training the model"
   ]
  },
  {
   "cell_type": "code",
   "execution_count": 105,
   "id": "33c6fa95-240b-41d7-a09b-91bf463275b1",
   "metadata": {},
   "outputs": [
    {
     "data": {
      "text/plain": [
       "(3, 1810)"
      ]
     },
     "execution_count": 105,
     "metadata": {},
     "output_type": "execute_result"
    }
   ],
   "source": [
    "# Initialize model with class weights\n",
    "logreg_model = LogisticRegression(\n",
    "    class_weight=class_weight_dict,\n",
    "    random_state=42,\n",
    "    max_iter=1000\n",
    ")\n",
    "\n",
    "# fitting our Logistic Regression\n",
    "logreg_model.fit(X_train_tfidf, y_train)\n",
    "\n",
    "logreg_model.coef_.shape"
   ]
  },
  {
   "cell_type": "markdown",
   "id": "01f8d9c0-9182-4399-89b0-f89ea4f19841",
   "metadata": {},
   "source": [
    "- Logistic Regression is a great first model because it's fast, interpretable, and works well with text data. \n",
    "- We use class weights to handle imbalance."
   ]
  },
  {
   "cell_type": "markdown",
   "id": "3d2cb38a-9eea-4878-bb71-aed24d5235b3",
   "metadata": {},
   "source": [
    "### Evaluating on validation set"
   ]
  },
  {
   "cell_type": "code",
   "execution_count": 107,
   "id": "8fb753b7-c2b5-4710-8852-daedaac3b160",
   "metadata": {},
   "outputs": [
    {
     "name": "stdout",
     "output_type": "stream",
     "text": [
      "Overall Accuracy: 0.582\n",
      "              precision    recall  f1-score   support\n",
      "\n",
      "    Negative       0.26      0.50      0.34        64\n",
      "     Neutral       0.69      0.60      0.64       458\n",
      "    Positive       0.58      0.57      0.57       323\n",
      "\n",
      "    accuracy                           0.58       845\n",
      "   macro avg       0.51      0.56      0.52       845\n",
      "weighted avg       0.61      0.58      0.59       845\n",
      "\n"
     ]
    }
   ],
   "source": [
    "# Make predictions on validation set\n",
    "y_val_pred = logreg_model.predict(X_val_tfidf)\n",
    "\n",
    "# Calculate accuracy\n",
    "val_accuracy = accuracy_score(y_val, y_val_pred)\n",
    "\n",
    "print(f\"Overall Accuracy: {val_accuracy:.3f}\")\n",
    "print(classification_report(y_val, y_val_pred))"
   ]
  },
  {
   "cell_type": "markdown",
   "id": "a74c96c0-edae-463d-a304-86e3e361111a",
   "metadata": {},
   "source": [
    "**Overall Accuracy:** 58.2%\n",
    "- This means our model correctly predicted the sentiment 58.2% of the time\n",
    "- For comparison: Random guessing between 3 classes = 33% accuracy\n",
    "- So we're doing better than random, but there's room for improvement\n",
    "\n",
    "**Negative Sentiment Analysis**:\n",
    "- **Precision:** 26% - When we predict 'Negative', we're only right 26% of the time\n",
    "- **Recall:** 50% - We catch 50% of actual negative tweets\n",
    "- **F1-score:** 34% - Overall poor performance for negative class\n",
    "- **Support:** 64 tweets - This is our smallest class (hardest to learn)\n",
    "\n",
    "**Neutral Sentiment Analysis**\n",
    "- **Precision:** 69% - When we predict 'Neutral', we're right 69% of the time\n",
    "- **Recall:** 60% - We catch 60% of actual neutral tweets\n",
    "- **F1-score:** 64% - Reasonable performance for the majority class\n",
    "- **Support:** 458 tweets - This is our largest class\n",
    "\n",
    "**Positive Sentiment Analysis**\n",
    "- **Precision:** 58% - When we predict 'Positive', we're right 58% of the time\n",
    "- **Recall:** 57% - We catch 57% of actual positive tweets\n",
    "- **F1-score:** 57% - Moderate performance\n",
    "- **Support:** 323 tweets - Middle-sized class"
   ]
  },
  {
   "cell_type": "markdown",
   "id": "bdd7dc30-4459-4a27-a149-14c0443456ef",
   "metadata": {},
   "source": [
    "### Visualizing model performance"
   ]
  },
  {
   "cell_type": "code",
   "execution_count": 109,
   "id": "299169c1-a082-4efa-865a-e5d93321582f",
   "metadata": {},
   "outputs": [
    {
     "data": {
      "image/png": "[encoded data removed]",
      "text/plain": [
       "<Figure size 1200x400 with 3 Axes>"
      ]
     },
     "metadata": {},
     "output_type": "display_data"
    }
   ],
   "source": [
    "import seaborn as sns\n",
    "import matplotlib.pyplot as plt\n",
    "\n",
    "cm = confusion_matrix(y_val, y_val_pred)\n",
    "\n",
    "# Plot confusion matrix\n",
    "plt.figure(figsize=(12, 4))\n",
    "\n",
    "plt.subplot(1, 2, 1)\n",
    "sns.heatmap(cm, annot=True, fmt='d', cmap='Blues', \n",
    "            xticklabels=classes, yticklabels=classes)\n",
    "plt.title('Confusion Matrix - Validation Set')\n",
    "plt.xlabel('Predicted')\n",
    "plt.ylabel('Actual')\n",
    "\n",
    "# Plot class distribution vs predictions\n",
    "plt.subplot(1, 2, 2)\n",
    "comparison = pd.DataFrame({\n",
    "    'Actual': y_val.value_counts(),\n",
    "    'Predicted': pd.Series(y_val_pred).value_counts()\n",
    "})\n",
    "comparison.plot(kind='bar', ax=plt.gca())\n",
    "plt.title('Actual vs Predicted Distribution')\n",
    "plt.xticks(rotation=45)\n",
    "\n",
    "plt.tight_layout()\n",
    "plt.show()"
   ]
  },
  {
   "cell_type": "markdown",
   "id": "dd1f4daf-d69b-42fa-82f6-fdcbafaf9200",
   "metadata": {},
   "source": [
    "**Confusion Matrix**\n",
    "Where our model gets confused:\n",
    "- Negative tweets: Often misclassified as Neutral (18) or Positive (14)\n",
    "- Neutral tweets: Often misclassified as Positive (122) - biggest confusion\n",
    "- Positive tweets: Often misclassified as Neutral (106) - second biggest confusion"
   ]
  },
  {
   "cell_type": "markdown",
   "id": "5c140ffb-4387-4d85-abbc-7bd8873ca8bd",
   "metadata": {},
   "source": [
    "### Understanding what the model learned"
   ]
  },
  {
   "cell_type": "code",
   "execution_count": 111,
   "id": "0b2a28ce-d5b8-4b48-9c90-6c513183778a",
   "metadata": {},
   "outputs": [
    {
     "name": "stdout",
     "output_type": "stream",
     "text": [
      "Top words for each sentiment:\n",
      "\n",
      "Negative sentiment:\n",
      "  Top words: hate, long, suck, fail, nothing, design headache, headache, run, didnt, ipad wait\n",
      "\n",
      "Neutral sentiment:\n",
      "  Top words: link, amp, ipad line, austin, please, store sxsw, platform, guy, tattoo, game\n",
      "\n",
      "Positive sentiment:\n",
      "  Top words: cool, great, love, awesome, nice, wow, smart, hot, link, tell\n"
     ]
    }
   ],
   "source": [
    "# Get feature names (words)\n",
    "feature_names = tfidf.get_feature_names_out()\n",
    "\n",
    "# Analyze most important words for each sentiment\n",
    "print(\"Top words for each sentiment:\")\n",
    "for i, sentiment in enumerate(classes):\n",
    "    # Get coefficients for this class\n",
    "    coefficients = logreg_model.coef_[i]\n",
    "    \n",
    "    # Get top 10 words with highest coefficients\n",
    "    top_indices = coefficients.argsort()[-10:][::-1]\n",
    "    top_words = [feature_names[idx] for idx in top_indices]\n",
    "    \n",
    "    print(f\"\\n{sentiment} sentiment:\")\n",
    "    print(f\"  Top words: {', '.join(top_words)}\")"
   ]
  },
  {
   "cell_type": "markdown",
   "id": "0199e04e-905e-4ec9-baf4-56d6fd2475e7",
   "metadata": {},
   "source": [
    "**Negative sentiment** \n",
    "  - Strong emotional words (hate, suck)\n",
    "  - Product complaints (design headache)\n",
    "  - Frustration with wait times or performance\n",
    "\n",
    "**Neutral sentiment**\n",
    "  - Shared links and references\n",
    "  - Event and location mentions\n",
    "  - Casual conversation without strong emotion\n",
    "\n",
    "**Positive sentiment**\n",
    "  - Explicit positive emotion words\n",
    "  - Words expressing admiration and excitement\n",
    "  - Social sharing language\n",
    "\n",
    "**Insights**\n",
    "- **Negative**: Customers express strong emotions about design flaws and wait times\n",
    "- **Neutral**: Much Twitter discussion is about events, locations, and link-sharing\n",
    "- **Positive**: Customers use clear positive adjectives when happy with products"
   ]
  },
  {
   "cell_type": "markdown",
   "id": "365082df-2932-47f0-a485-a3664fc149cd",
   "metadata": {},
   "source": [
    "### Conclusion"
   ]
  },
  {
   "cell_type": "markdown",
   "id": "62e2b6fe-5225-4ac2-be00-3cd3309cba1a",
   "metadata": {},
   "source": [
    "**Main Issues Identified**\n",
    "1. **class imbalance:** Model struggles with minority class (Negative)\n",
    "2. **negative positive confusion:** Hard to distinguish between these\n",
    "3. **neutral dominance:** Model tends to default to Neutral predictions\n",
    "4. **low negative presicion:** Many false negatives (calling negative tweets something else)\n",
    "\n",
    "**Recommended next steps**\n",
    "1. **Try Naive Bayes** - often works better with imbalanced text data\n",
    "2. **Adjust class weights** - give even more importance to Negative class\n",
    "3. **Feature engineering** - add sentiment-specific features\n",
    "5. Try different text vectorization approaches\n",
    "6. Consider binary classification first (Positive vs Negative)"
   ]
  },
  {
   "cell_type": "markdown",
   "id": "f4c23ed2-f86f-4cff-899e-f7cdca80c720",
   "metadata": {},
   "source": [
    "## Second Model (Random Forest)"
   ]
  },
  {
   "cell_type": "markdown",
   "id": "0d4af6be-5577-45e9-88ec-6792bea5608a",
   "metadata": {},
   "source": [
    "- Our second model will be Naive Bayes because it is good for text classification and can handle imbalanced data well."
   ]
  },
  {
   "cell_type": "code",
   "execution_count": 113,
   "id": "3ae47251-8a20-4bac-aeec-cf8683b371b7",
   "metadata": {},
   "outputs": [],
   "source": [
    "# Import Random Forest and additional metrics\n",
    "from sklearn.ensemble import RandomForestClassifier\n",
    "from sklearn.metrics import classification_report, confusion_matrix, accuracy_score\n",
    "import numpy as np\n",
    "import pandas as pd\n",
    "import matplotlib.pyplot as plt\n",
    "import seaborn as sns"
   ]
  },
  {
   "cell_type": "markdown",
   "id": "e17cd9df-3990-4910-b2db-af72af94ec84",
   "metadata": {},
   "source": [
    "### Training the model"
   ]
  },
  {
   "cell_type": "code",
   "execution_count": null,
   "id": "2b4ca854-dd7d-4a7d-affb-32eebe62efc3",
   "metadata": {},
   "outputs": [],
   "source": []
  },
  {
   "cell_type": "code",
   "execution_count": 115,
   "id": "6f8331c1-0c11-45c0-bc25-a1388715e4e6",
   "metadata": {},
   "outputs": [
    {
     "data": {
      "text/html": [
       "<style>#sk-container-id-1 {\n",
       "  /* Definition of color scheme common for light and dark mode */\n",
       "  --sklearn-color-text: black;\n",
       "  --sklearn-color-line: gray;\n",
       "  /* Definition of color scheme for unfitted estimators */\n",
       "  --sklearn-color-unfitted-level-0: #fff5e6;\n",
       "  --sklearn-color-unfitted-level-1: #f6e4d2;\n",
       "  --sklearn-color-unfitted-level-2: #ffe0b3;\n",
       "  --sklearn-color-unfitted-level-3: chocolate;\n",
       "  /* Definition of color scheme for fitted estimators */\n",
       "  --sklearn-color-fitted-level-0: #f0f8ff;\n",
       "  --sklearn-color-fitted-level-1: #d4ebff;\n",
       "  --sklearn-color-fitted-level-2: #b3dbfd;\n",
       "  --sklearn-color-fitted-level-3: cornflowerblue;\n",
       "\n",
       "  /* Specific color for light theme */\n",
       "  --sklearn-color-text-on-default-background: var(--sg-text-color, var(--theme-code-foreground, var(--jp-content-font-color1, black)));\n",
       "  --sklearn-color-background: var(--sg-background-color, var(--theme-background, var(--jp-layout-color0, white)));\n",
       "  --sklearn-color-border-box: var(--sg-text-color, var(--theme-code-foreground, var(--jp-content-font-color1, black)));\n",
       "  --sklearn-color-icon: #696969;\n",
       "\n",
       "  @media (prefers-color-scheme: dark) {\n",
       "    /* Redefinition of color scheme for dark theme */\n",
       "    --sklearn-color-text-on-default-background: var(--sg-text-color, var(--theme-code-foreground, var(--jp-content-font-color1, white)));\n",
       "    --sklearn-color-background: var(--sg-background-color, var(--theme-background, var(--jp-layout-color0, #111)));\n",
       "    --sklearn-color-border-box: var(--sg-text-color, var(--theme-code-foreground, var(--jp-content-font-color1, white)));\n",
       "    --sklearn-color-icon: #878787;\n",
       "  }\n",
       "}\n",
       "\n",
       "#sk-container-id-1 {\n",
       "  color: var(--sklearn-color-text);\n",
       "}\n",
       "\n",
       "#sk-container-id-1 pre {\n",
       "  padding: 0;\n",
       "}\n",
       "\n",
       "#sk-container-id-1 input.sk-hidden--visually {\n",
       "  border: 0;\n",
       "  clip: rect(1px 1px 1px 1px);\n",
       "  clip: rect(1px, 1px, 1px, 1px);\n",
       "  height: 1px;\n",
       "  margin: -1px;\n",
       "  overflow: hidden;\n",
       "  padding: 0;\n",
       "  position: absolute;\n",
       "  width: 1px;\n",
       "}\n",
       "\n",
       "#sk-container-id-1 div.sk-dashed-wrapped {\n",
       "  border: 1px dashed var(--sklearn-color-line);\n",
       "  margin: 0 0.4em 0.5em 0.4em;\n",
       "  box-sizing: border-box;\n",
       "  padding-bottom: 0.4em;\n",
       "  background-color: var(--sklearn-color-background);\n",
       "}\n",
       "\n",
       "#sk-container-id-1 div.sk-container {\n",
       "  /* jupyter's `normalize.less` sets `[hidden] { display: none; }`\n",
       "     but bootstrap.min.css set `[hidden] { display: none !important; }`\n",
       "     so we also need the `!important` here to be able to override the\n",
       "     default hidden behavior on the sphinx rendered scikit-learn.org.\n",
       "     See: https://github.com/scikit-learn/scikit-learn/issues/21755 */\n",
       "  display: inline-block !important;\n",
       "  position: relative;\n",
       "}\n",
       "\n",
       "#sk-container-id-1 div.sk-text-repr-fallback {\n",
       "  display: none;\n",
       "}\n",
       "\n",
       "div.sk-parallel-item,\n",
       "div.sk-serial,\n",
       "div.sk-item {\n",
       "  /* draw centered vertical line to link estimators */\n",
       "  background-image: linear-gradient(var(--sklearn-color-text-on-default-background), var(--sklearn-color-text-on-default-background));\n",
       "  background-size: 2px 100%;\n",
       "  background-repeat: no-repeat;\n",
       "  background-position: center center;\n",
       "}\n",
       "\n",
       "/* Parallel-specific style estimator block */\n",
       "\n",
       "#sk-container-id-1 div.sk-parallel-item::after {\n",
       "  content: \"\";\n",
       "  width: 100%;\n",
       "  border-bottom: 2px solid var(--sklearn-color-text-on-default-background);\n",
       "  flex-grow: 1;\n",
       "}\n",
       "\n",
       "#sk-container-id-1 div.sk-parallel {\n",
       "  display: flex;\n",
       "  align-items: stretch;\n",
       "  justify-content: center;\n",
       "  background-color: var(--sklearn-color-background);\n",
       "  position: relative;\n",
       "}\n",
       "\n",
       "#sk-container-id-1 div.sk-parallel-item {\n",
       "  display: flex;\n",
       "  flex-direction: column;\n",
       "}\n",
       "\n",
       "#sk-container-id-1 div.sk-parallel-item:first-child::after {\n",
       "  align-self: flex-end;\n",
       "  width: 50%;\n",
       "}\n",
       "\n",
       "#sk-container-id-1 div.sk-parallel-item:last-child::after {\n",
       "  align-self: flex-start;\n",
       "  width: 50%;\n",
       "}\n",
       "\n",
       "#sk-container-id-1 div.sk-parallel-item:only-child::after {\n",
       "  width: 0;\n",
       "}\n",
       "\n",
       "/* Serial-specific style estimator block */\n",
       "\n",
       "#sk-container-id-1 div.sk-serial {\n",
       "  display: flex;\n",
       "  flex-direction: column;\n",
       "  align-items: center;\n",
       "  background-color: var(--sklearn-color-background);\n",
       "  padding-right: 1em;\n",
       "  padding-left: 1em;\n",
       "}\n",
       "\n",
       "\n",
       "/* Toggleable style: style used for estimator/Pipeline/ColumnTransformer box that is\n",
       "clickable and can be expanded/collapsed.\n",
       "- Pipeline and ColumnTransformer use this feature and define the default style\n",
       "- Estimators will overwrite some part of the style using the `sk-estimator` class\n",
       "*/\n",
       "\n",
       "/* Pipeline and ColumnTransformer style (default) */\n",
       "\n",
       "#sk-container-id-1 div.sk-toggleable {\n",
       "  /* Default theme specific background. It is overwritten whether we have a\n",
       "  specific estimator or a Pipeline/ColumnTransformer */\n",
       "  background-color: var(--sklearn-color-background);\n",
       "}\n",
       "\n",
       "/* Toggleable label */\n",
       "#sk-container-id-1 label.sk-toggleable__label {\n",
       "  cursor: pointer;\n",
       "  display: block;\n",
       "  width: 100%;\n",
       "  margin-bottom: 0;\n",
       "  padding: 0.5em;\n",
       "  box-sizing: border-box;\n",
       "  text-align: center;\n",
       "}\n",
       "\n",
       "#sk-container-id-1 label.sk-toggleable__label-arrow:before {\n",
       "  /* Arrow on the left of the label */\n",
       "  content: \"▸\";\n",
       "  float: left;\n",
       "  margin-right: 0.25em;\n",
       "  color: var(--sklearn-color-icon);\n",
       "}\n",
       "\n",
       "#sk-container-id-1 label.sk-toggleable__label-arrow:hover:before {\n",
       "  color: var(--sklearn-color-text);\n",
       "}\n",
       "\n",
       "/* Toggleable content - dropdown */\n",
       "\n",
       "#sk-container-id-1 div.sk-toggleable__content {\n",
       "  max-height: 0;\n",
       "  max-width: 0;\n",
       "  overflow: hidden;\n",
       "  text-align: left;\n",
       "  /* unfitted */\n",
       "  background-color: var(--sklearn-color-unfitted-level-0);\n",
       "}\n",
       "\n",
       "#sk-container-id-1 div.sk-toggleable__content.fitted {\n",
       "  /* fitted */\n",
       "  background-color: var(--sklearn-color-fitted-level-0);\n",
       "}\n",
       "\n",
       "#sk-container-id-1 div.sk-toggleable__content pre {\n",
       "  margin: 0.2em;\n",
       "  border-radius: 0.25em;\n",
       "  color: var(--sklearn-color-text);\n",
       "  /* unfitted */\n",
       "  background-color: var(--sklearn-color-unfitted-level-0);\n",
       "}\n",
       "\n",
       "#sk-container-id-1 div.sk-toggleable__content.fitted pre {\n",
       "  /* unfitted */\n",
       "  background-color: var(--sklearn-color-fitted-level-0);\n",
       "}\n",
       "\n",
       "#sk-container-id-1 input.sk-toggleable__control:checked~div.sk-toggleable__content {\n",
       "  /* Expand drop-down */\n",
       "  max-height: 200px;\n",
       "  max-width: 100%;\n",
       "  overflow: auto;\n",
       "}\n",
       "\n",
       "#sk-container-id-1 input.sk-toggleable__control:checked~label.sk-toggleable__label-arrow:before {\n",
       "  content: \"▾\";\n",
       "}\n",
       "\n",
       "/* Pipeline/ColumnTransformer-specific style */\n",
       "\n",
       "#sk-container-id-1 div.sk-label input.sk-toggleable__control:checked~label.sk-toggleable__label {\n",
       "  color: var(--sklearn-color-text);\n",
       "  background-color: var(--sklearn-color-unfitted-level-2);\n",
       "}\n",
       "\n",
       "#sk-container-id-1 div.sk-label.fitted input.sk-toggleable__control:checked~label.sk-toggleable__label {\n",
       "  background-color: var(--sklearn-color-fitted-level-2);\n",
       "}\n",
       "\n",
       "/* Estimator-specific style */\n",
       "\n",
       "/* Colorize estimator box */\n",
       "#sk-container-id-1 div.sk-estimator input.sk-toggleable__control:checked~label.sk-toggleable__label {\n",
       "  /* unfitted */\n",
       "  background-color: var(--sklearn-color-unfitted-level-2);\n",
       "}\n",
       "\n",
       "#sk-container-id-1 div.sk-estimator.fitted input.sk-toggleable__control:checked~label.sk-toggleable__label {\n",
       "  /* fitted */\n",
       "  background-color: var(--sklearn-color-fitted-level-2);\n",
       "}\n",
       "\n",
       "#sk-container-id-1 div.sk-label label.sk-toggleable__label,\n",
       "#sk-container-id-1 div.sk-label label {\n",
       "  /* The background is the default theme color */\n",
       "  color: var(--sklearn-color-text-on-default-background);\n",
       "}\n",
       "\n",
       "/* On hover, darken the color of the background */\n",
       "#sk-container-id-1 div.sk-label:hover label.sk-toggleable__label {\n",
       "  color: var(--sklearn-color-text);\n",
       "  background-color: var(--sklearn-color-unfitted-level-2);\n",
       "}\n",
       "\n",
       "/* Label box, darken color on hover, fitted */\n",
       "#sk-container-id-1 div.sk-label.fitted:hover label.sk-toggleable__label.fitted {\n",
       "  color: var(--sklearn-color-text);\n",
       "  background-color: var(--sklearn-color-fitted-level-2);\n",
       "}\n",
       "\n",
       "/* Estimator label */\n",
       "\n",
       "#sk-container-id-1 div.sk-label label {\n",
       "  font-family: monospace;\n",
       "  font-weight: bold;\n",
       "  display: inline-block;\n",
       "  line-height: 1.2em;\n",
       "}\n",
       "\n",
       "#sk-container-id-1 div.sk-label-container {\n",
       "  text-align: center;\n",
       "}\n",
       "\n",
       "/* Estimator-specific */\n",
       "#sk-container-id-1 div.sk-estimator {\n",
       "  font-family: monospace;\n",
       "  border: 1px dotted var(--sklearn-color-border-box);\n",
       "  border-radius: 0.25em;\n",
       "  box-sizing: border-box;\n",
       "  margin-bottom: 0.5em;\n",
       "  /* unfitted */\n",
       "  background-color: var(--sklearn-color-unfitted-level-0);\n",
       "}\n",
       "\n",
       "#sk-container-id-1 div.sk-estimator.fitted {\n",
       "  /* fitted */\n",
       "  background-color: var(--sklearn-color-fitted-level-0);\n",
       "}\n",
       "\n",
       "/* on hover */\n",
       "#sk-container-id-1 div.sk-estimator:hover {\n",
       "  /* unfitted */\n",
       "  background-color: var(--sklearn-color-unfitted-level-2);\n",
       "}\n",
       "\n",
       "#sk-container-id-1 div.sk-estimator.fitted:hover {\n",
       "  /* fitted */\n",
       "  background-color: var(--sklearn-color-fitted-level-2);\n",
       "}\n",
       "\n",
       "/* Specification for estimator info (e.g. \"i\" and \"?\") */\n",
       "\n",
       "/* Common style for \"i\" and \"?\" */\n",
       "\n",
       ".sk-estimator-doc-link,\n",
       "a:link.sk-estimator-doc-link,\n",
       "a:visited.sk-estimator-doc-link {\n",
       "  float: right;\n",
       "  font-size: smaller;\n",
       "  line-height: 1em;\n",
       "  font-family: monospace;\n",
       "  background-color: var(--sklearn-color-background);\n",
       "  border-radius: 1em;\n",
       "  height: 1em;\n",
       "  width: 1em;\n",
       "  text-decoration: none !important;\n",
       "  margin-left: 1ex;\n",
       "  /* unfitted */\n",
       "  border: var(--sklearn-color-unfitted-level-1) 1pt solid;\n",
       "  color: var(--sklearn-color-unfitted-level-1);\n",
       "}\n",
       "\n",
       ".sk-estimator-doc-link.fitted,\n",
       "a:link.sk-estimator-doc-link.fitted,\n",
       "a:visited.sk-estimator-doc-link.fitted {\n",
       "  /* fitted */\n",
       "  border: var(--sklearn-color-fitted-level-1) 1pt solid;\n",
       "  color: var(--sklearn-color-fitted-level-1);\n",
       "}\n",
       "\n",
       "/* On hover */\n",
       "div.sk-estimator:hover .sk-estimator-doc-link:hover,\n",
       ".sk-estimator-doc-link:hover,\n",
       "div.sk-label-container:hover .sk-estimator-doc-link:hover,\n",
       ".sk-estimator-doc-link:hover {\n",
       "  /* unfitted */\n",
       "  background-color: var(--sklearn-color-unfitted-level-3);\n",
       "  color: var(--sklearn-color-background);\n",
       "  text-decoration: none;\n",
       "}\n",
       "\n",
       "div.sk-estimator.fitted:hover .sk-estimator-doc-link.fitted:hover,\n",
       ".sk-estimator-doc-link.fitted:hover,\n",
       "div.sk-label-container:hover .sk-estimator-doc-link.fitted:hover,\n",
       ".sk-estimator-doc-link.fitted:hover {\n",
       "  /* fitted */\n",
       "  background-color: var(--sklearn-color-fitted-level-3);\n",
       "  color: var(--sklearn-color-background);\n",
       "  text-decoration: none;\n",
       "}\n",
       "\n",
       "/* Span, style for the box shown on hovering the info icon */\n",
       ".sk-estimator-doc-link span {\n",
       "  display: none;\n",
       "  z-index: 9999;\n",
       "  position: relative;\n",
       "  font-weight: normal;\n",
       "  right: .2ex;\n",
       "  padding: .5ex;\n",
       "  margin: .5ex;\n",
       "  width: min-content;\n",
       "  min-width: 20ex;\n",
       "  max-width: 50ex;\n",
       "  color: var(--sklearn-color-text);\n",
       "  box-shadow: 2pt 2pt 4pt #999;\n",
       "  /* unfitted */\n",
       "  background: var(--sklearn-color-unfitted-level-0);\n",
       "  border: .5pt solid var(--sklearn-color-unfitted-level-3);\n",
       "}\n",
       "\n",
       ".sk-estimator-doc-link.fitted span {\n",
       "  /* fitted */\n",
       "  background: var(--sklearn-color-fitted-level-0);\n",
       "  border: var(--sklearn-color-fitted-level-3);\n",
       "}\n",
       "\n",
       ".sk-estimator-doc-link:hover span {\n",
       "  display: block;\n",
       "}\n",
       "\n",
       "/* \"?\"-specific style due to the `<a>` HTML tag */\n",
       "\n",
       "#sk-container-id-1 a.estimator_doc_link {\n",
       "  float: right;\n",
       "  font-size: 1rem;\n",
       "  line-height: 1em;\n",
       "  font-family: monospace;\n",
       "  background-color: var(--sklearn-color-background);\n",
       "  border-radius: 1rem;\n",
       "  height: 1rem;\n",
       "  width: 1rem;\n",
       "  text-decoration: none;\n",
       "  /* unfitted */\n",
       "  color: var(--sklearn-color-unfitted-level-1);\n",
       "  border: var(--sklearn-color-unfitted-level-1) 1pt solid;\n",
       "}\n",
       "\n",
       "#sk-container-id-1 a.estimator_doc_link.fitted {\n",
       "  /* fitted */\n",
       "  border: var(--sklearn-color-fitted-level-1) 1pt solid;\n",
       "  color: var(--sklearn-color-fitted-level-1);\n",
       "}\n",
       "\n",
       "/* On hover */\n",
       "#sk-container-id-1 a.estimator_doc_link:hover {\n",
       "  /* unfitted */\n",
       "  background-color: var(--sklearn-color-unfitted-level-3);\n",
       "  color: var(--sklearn-color-background);\n",
       "  text-decoration: none;\n",
       "}\n",
       "\n",
       "#sk-container-id-1 a.estimator_doc_link.fitted:hover {\n",
       "  /* fitted */\n",
       "  background-color: var(--sklearn-color-fitted-level-3);\n",
       "}\n",
       "</style><div id=\"sk-container-id-1\" class=\"sk-top-container\"><div class=\"sk-text-repr-fallback\"><pre>RandomForestClassifier(class_weight=&#x27;balanced&#x27;, max_depth=20, n_jobs=-1,\n",
       "                       random_state=42)</pre><b>In a Jupyter environment, please rerun this cell to show the HTML representation or trust the notebook. <br />On GitHub, the HTML representation is unable to render, please try loading this page with nbviewer.org.</b></div><div class=\"sk-container\" hidden><div class=\"sk-item\"><div class=\"sk-estimator fitted sk-toggleable\"><input class=\"sk-toggleable__control sk-hidden--visually\" id=\"sk-estimator-id-1\" type=\"checkbox\" checked><label for=\"sk-estimator-id-1\" class=\"sk-toggleable__label fitted sk-toggleable__label-arrow fitted\">&nbsp;&nbsp;RandomForestClassifier<a class=\"sk-estimator-doc-link fitted\" rel=\"noreferrer\" target=\"_blank\" href=\"https://scikit-learn.org/1.5/modules/generated/sklearn.ensemble.RandomForestClassifier.html\">?<span>Documentation for RandomForestClassifier</span></a><span class=\"sk-estimator-doc-link fitted\">i<span>Fitted</span></span></label><div class=\"sk-toggleable__content fitted\"><pre>RandomForestClassifier(class_weight=&#x27;balanced&#x27;, max_depth=20, n_jobs=-1,\n",
       "                       random_state=42)</pre></div> </div></div></div></div>"
      ],
      "text/plain": [
       "RandomForestClassifier(class_weight='balanced', max_depth=20, n_jobs=-1,\n",
       "                       random_state=42)"
      ]
     },
     "execution_count": 115,
     "metadata": {},
     "output_type": "execute_result"
    }
   ],
   "source": [
    "# Initialize Random Forest with class weights\n",
    "rf_model = RandomForestClassifier(\n",
    "    n_estimators=100,        # Number of trees\n",
    "    max_depth=20,            # Limit tree depth to prevent overfitting\n",
    "    class_weight='balanced', # Handle class imbalance\n",
    "    random_state=42,\n",
    "    n_jobs=-1               # Use all processors\n",
    ")\n",
    "\n",
    "# fitting Random Forest on TF-IDF features\n",
    "rf_model.fit(X_train_tfidf, y_train)"
   ]
  },
  {
   "cell_type": "markdown",
   "id": "88c22e2c-1681-4017-bb18-3ce66ebf7116",
   "metadata": {},
   "source": [
    "- Naive Bayes learns the probability of each word given a sentiment class. It's fast and works well with high-dimensional text data."
   ]
  },
  {
   "cell_type": "markdown",
   "id": "d13db617-3991-4f93-af12-036a84a193a4",
   "metadata": {},
   "source": [
    "### Evaluating on validation set"
   ]
  },
  {
   "cell_type": "code",
   "execution_count": 117,
   "id": "a85c6358-5d7e-478f-b83b-df80f24c9bbc",
   "metadata": {},
   "outputs": [
    {
     "name": "stdout",
     "output_type": "stream",
     "text": [
      "Overall Accuracy: 0.561\n",
      "              precision    recall  f1-score   support\n",
      "\n",
      "    Negative       0.27      0.45      0.34        64\n",
      "     Neutral       0.65      0.60      0.63       458\n",
      "    Positive       0.54      0.52      0.53       323\n",
      "\n",
      "    accuracy                           0.56       845\n",
      "   macro avg       0.49      0.53      0.50       845\n",
      "weighted avg       0.58      0.56      0.57       845\n",
      "\n",
      "Confusion Matrix:\n",
      "[[ 29  18  17]\n",
      " [ 54 277 127]\n",
      " [ 24 131 168]]\n"
     ]
    }
   ],
   "source": [
    "# Make predictions\n",
    "y_val_pred_rf = rf_model.predict(X_val_tfidf)\n",
    "\n",
    "# Calculate accuracy\n",
    "val_accuracy_rf = accuracy_score(y_val, y_val_pred_rf)\n",
    "\n",
    "print(f\"Overall Accuracy: {val_accuracy_rf:.3f}\")\n",
    "print(classification_report(y_val, y_val_pred_rf))\n",
    "\n",
    "# Confusion Matrix\n",
    "cm_rf = confusion_matrix(y_val, y_val_pred_rf)\n",
    "\n",
    "print(\"Confusion Matrix:\")\n",
    "print(cm_rf)"
   ]
  },
  {
   "cell_type": "markdown",
   "id": "00353219-d320-42a2-bd8d-52278be5e592",
   "metadata": {},
   "source": [
    "### Comparing Logistic Regression vs Random forest"
   ]
  },
  {
   "cell_type": "code",
   "execution_count": 123,
   "id": "75e931e5-446c-47d1-ad8a-7f900b0af084",
   "metadata": {},
   "outputs": [
    {
     "name": "stdout",
     "output_type": "stream",
     "text": [
      "Metric          Logistic Regression  Random Forest  \n",
      "--------------------------------------------------\n",
      "Accuracy        0.582                  0.561\n",
      "Negative F1     0.34                 0.339\n",
      "Neutral F1      0.64                 0.627\n",
      "Positive F1     0.57                 0.529\n"
     ]
    }
   ],
   "source": [
    "print(f\"{'Metric':<15} {'Logistic Regression':<20} {'Random Forest':<15}\")\n",
    "print(\"-\" * 50)\n",
    "print(f\"{'Accuracy':<15} {val_accuracy:.3f}{'':<17} {val_accuracy_rf:.3f}\")\n",
    "print(f\"{'Negative F1':<15} {0.34:<20} {classification_report(y_val, y_val_pred_rf, output_dict=True)['Negative']['f1-score']:.3f}\")\n",
    "print(f\"{'Neutral F1':<15} {0.64:<20} {classification_report(y_val, y_val_pred_rf, output_dict=True)['Neutral']['f1-score']:.3f}\")\n",
    "print(f\"{'Positive F1':<15} {0.57:<20} {classification_report(y_val, y_val_pred_rf, output_dict=True)['Positive']['f1-score']:.3f}\")"
   ]
  },
  {
   "cell_type": "markdown",
   "id": "6c3524ae-e5c9-4f38-a5f0-e32dc67a608a",
   "metadata": {},
   "source": [
    "### Visualizing the Comparizon"
   ]
  },
  {
   "cell_type": "code",
   "execution_count": 128,
   "id": "e651de89-93f3-4c08-9bd3-6e0eed1ec391",
   "metadata": {},
   "outputs": [
    {
     "data": {
      "image/png": "[encoded data removed]",
      "text/plain": [
       "<Figure size 1500x500 with 2 Axes>"
      ]
     },
     "metadata": {},
     "output_type": "display_data"
    }
   ],
   "source": [
    "# Create comparison visualization\n",
    "plt.figure(figsize=(15, 5))\n",
    "\n",
    "# Plot 1: Accuracy comparison\n",
    "plt.subplot(1, 3, 1)\n",
    "models = ['Logistic Regression', 'Random Forest']\n",
    "accuracies = [val_accuracy, val_accuracy_rf]\n",
    "colors = ['blue', 'orange']\n",
    "bars = plt.bar(models, accuracies, color=colors, alpha=0.7)\n",
    "plt.title('Model Accuracy Comparison')\n",
    "plt.ylabel('Accuracy')\n",
    "for bar, acc in zip(bars, accuracies):\n",
    "    plt.text(bar.get_x() + bar.get_width()/2, bar.get_height() + 0.01, \n",
    "             f'{acc:.3f}', ha='center', va='bottom')\n",
    "\n",
    "# Plot 2: F1-score comparison by class\n",
    "plt.subplot(1, 3, 2)\n",
    "lr_report = classification_report(y_val, y_val_pred, output_dict=True)\n",
    "rf_report = classification_report(y_val, y_val_pred_rf, output_dict=True)\n",
    "\n",
    "classes = ['Negative', 'Neutral', 'Positive']\n",
    "lr_f1 = [lr_report['Negative']['f1-score'], lr_report['Neutral']['f1-score'], lr_report['Positive']['f1-score']]\n",
    "nb_f1 = [rf_report['Negative']['f1-score'], rf_report['Neutral']['f1-score'], rf_report['Positive']['f1-score']]\n",
    "\n",
    "x = np.arange(len(classes))\n",
    "width = 0.35\n",
    "plt.bar(x - width/2, lr_f1, width, label='Logistic Regression', alpha=0.7)\n",
    "plt.bar(x + width/2, nb_f1, width, label='Random Forest', alpha=0.7)\n",
    "plt.title('F1-Score by Class')\n",
    "plt.xlabel('Sentiment Class')\n",
    "plt.ylabel('F1-Score')\n",
    "plt.xticks(x, classes)\n",
    "plt.legend()\n",
    "\n",
    "\n",
    "plt.tight_layout()\n",
    "plt.show()"
   ]
  },
  {
   "cell_type": "code",
   "execution_count": 130,
   "id": "abbf443e-891f-493e-9b41-dbf7d19c63a4",
   "metadata": {},
   "outputs": [
    {
     "name": "stdout",
     "output_type": "stream",
     "text": [
      "Step 3: Visualizing key performance metrics\n"
     ]
    },
    {
     "data": {
      "image/png": "[encoded data removed]",
      "text/plain": [
       "<Figure size 1200x600 with 1 Axes>"
      ]
     },
     "metadata": {},
     "output_type": "display_data"
    },
    {
     "name": "stdout",
     "output_type": "stream",
     "text": [
      "✓ Key metrics comparison visualized\n"
     ]
    }
   ],
   "source": [
    "Visualizing key performance metrics\n",
    "\n",
    "plt.figure(figsize=(12, 6))\n",
    "\n",
    "# Focus on the most important metrics for business\n",
    "key_metrics = ['Accuracy', 'Negative Recall', 'Negative Precision', 'Negative F1']\n",
    "lr_key_scores = [0.582, 0.500, 0.256, 0.339]\n",
    "rf_key_scores = [0.561, 0.453, 0.271, 0.339]\n",
    "\n",
    "x = np.arange(len(key_metrics))\n",
    "width = 0.35\n",
    "\n",
    "plt.bar(x - width/2, lr_key_scores, width, label='Logistic Regression', alpha=0.7, color='blue')\n",
    "plt.bar(x + width/2, rf_key_scores, width, label='Random Forest', alpha=0.7, color='green')\n",
    "\n",
    "plt.title('Key Performance Metrics Comparison')\n",
    "plt.xlabel('Metrics')\n",
    "plt.ylabel('Score')\n",
    "plt.xticks(x, key_metrics)\n",
    "plt.legend()\n",
    "plt.ylim(0, 0.7)\n",
    "plt.grid(True, alpha=0.3)\n",
    "\n",
    "plt.tight_layout()\n",
    "plt.show()"
   ]
  },
  {
   "cell_type": "markdown",
   "id": "befde840-8b5d-4536-bf53-8ab5203cd206",
   "metadata": {},
   "source": [
    "### Analyzing what Rndom Forest learned"
   ]
  },
  {
   "cell_type": "code",
   "execution_count": 256,
   "id": "c8be0f38-6faa-4ce4-a76f-d74e6164fe11",
   "metadata": {},
   "outputs": [
    {
     "name": "stdout",
     "output_type": "stream",
     "text": [
      "\n",
      "Top words learned by Naive Bayes for each sentiment:\n",
      "\n",
      "Negative sentiment:\n",
      "  Top words: iphone, ipad, apple, app, like, design, link, iphone app, design headache, headache\n",
      "\n",
      "Neutral sentiment:\n",
      "  Top words: ipad, link, apple, store, iphone, austin, apple store, popup, sxsw link, line\n",
      "\n",
      "Positive sentiment:\n",
      "  Top words: ipad, apple, link, iphone, store, app, sxsw link, new, apple store, popup\n"
     ]
    }
   ],
   "source": []
  },
  {
   "cell_type": "markdown",
   "id": "0e26f3e0-59e4-4ace-b03d-86817f32ac4b",
   "metadata": {},
   "source": [
    "### Evaluating on validation set"
   ]
  },
  {
   "cell_type": "code",
   "execution_count": 139,
   "id": "53b628e6-b497-4a9d-9d99-330226663c14",
   "metadata": {},
   "outputs": [
    {
     "name": "stdout",
     "output_type": "stream",
     "text": [
      "Step 8: Final recommendation and next steps\n",
      "\n",
      "🎯 FINAL RECOMMENDATION:\n",
      "For the Apple Product Manager stakeholder, we recommend:\n",
      "✅ LOGISTIC REGRESSION\n",
      "\n",
      "📈 REASONS FOR SELECTION:\n",
      "  1. Higher negative recall (50.0% vs 45.3%) - catches more complaints\n",
      "  2. Better overall accuracy (58.2% vs 56.1%)\n",
      "  3. More interpretable - we can explain which words drive decisions\n",
      "  4. Faster training and prediction times\n",
      "  5. Better balanced performance across all metrics\n",
      "\n",
      "🚀 NEXT STEPS:\n",
      "  1. Proceed with Logistic Regression as our final model\n",
      "  2. Perform hyperparameter tuning to improve performance\n",
      "  3. Evaluate on the final test set for unbiased results\n",
      "  4. Create model interpretation for business stakeholders\n",
      "  5. Prepare deployment recommendations\n",
      "\n",
      "✅ COMPARISON COMPLETE - LOGISTIC REGRESSION SELECTED\n"
     ]
    }
   ],
   "source": [
    "print(\"Step 8: Final recommendation and next steps\")\n",
    "\n",
    "print(\"\\n🎯 FINAL RECOMMENDATION:\")\n",
    "print(\"For the Apple Product Manager stakeholder, we recommend:\")\n",
    "print(\"✅ LOGISTIC REGRESSION\")\n",
    "\n",
    "print(\"\\n📈 REASONS FOR SELECTION:\")\n",
    "reasons = [\n",
    "    \"Higher negative recall (50.0% vs 45.3%) - catches more complaints\",\n",
    "    \"Better overall accuracy (58.2% vs 56.1%)\",\n",
    "    \"More interpretable - we can explain which words drive decisions\",\n",
    "    \"Faster training and prediction times\",\n",
    "    \"Better balanced performance across all metrics\"\n",
    "]\n",
    "\n",
    "for i, reason in enumerate(reasons, 1):\n",
    "    print(f\"  {i}. {reason}\")\n",
    "\n",
    "print(\"\\n🚀 NEXT STEPS:\")\n",
    "next_steps = [\n",
    "    \"Proceed with Logistic Regression as our final model\",\n",
    "    \"Perform hyperparameter tuning to improve performance\",\n",
    "    \"Evaluate on the final test set for unbiased results\",\n",
    "    \"Create model interpretation for business stakeholders\",\n",
    "    \"Prepare deployment recommendations\"\n",
    "]\n",
    "\n",
    "for i, step in enumerate(next_steps, 1):\n",
    "    print(f\"  {i}. {step}\")\n",
    "\n",
    "print(f\"\\n✅ COMPARISON COMPLETE - LOGISTIC REGRESSION SELECTED\")"
   ]
  },
  {
   "cell_type": "code",
   "execution_count": null,
   "id": "a56acd69-c0cc-46c3-8d95-3d6d098a7277",
   "metadata": {},
   "outputs": [],
   "source": []
  }
 ],
 "metadata": {
  "kernelspec": {
   "display_name": "Python [conda env:base] *",
   "language": "python",
   "name": "conda-base-py"
  },
  "language_info": {
   "codemirror_mode": {
    "name": "ipython",
    "version": 3
   },
   "file_extension": ".py",
   "mimetype": "text/x-python",
   "name": "python",
   "nbconvert_exporter": "python",
   "pygments_lexer": "ipython3",
   "version": "3.12.3"
  }
 },
 "nbformat": 4,
 "nbformat_minor": 5
}
